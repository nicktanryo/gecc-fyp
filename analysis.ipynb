{
 "cells": [
  {
   "cell_type": "markdown",
   "metadata": {},
   "source": [
    "Past studies have shown that that alcohol has an adverse effect on overall health when consumed excessively, but there are hardly any studies about alcohol consumption and university students. \n",
    "The purpose of this research is to discover the effect of alcohol consumption towards university students’ academic achievement. \n",
    "\n",
    "The background of this study is based on our personal experience as university students, where alcohol is a popular and visible part of social lives among university students especially \n",
    "in certain events such as orientation camp and student hostel activities. Although the reasons for alcohol consumption may vary, strengthening interpersonal bond appeared to be the most common motive. \n",
    "This research will ultimately let student have self-reflection on their behaviors towards alcohol. \n",
    "\n",
    "Overall, does alcohol consumption affect university students’ academic achievement? If yes, how does it affect students’ academic achievement, is it a positive or negative impact? \n",
    "The research will consider the percentage of population that consume alcohol regularly, concurrently comparing the result with those who do not consume alcohol at all or on regular basis. \n",
    "This research will also aim to identify the factors that may correlate with alcohol consumption level, such as gender, nationality, year of study, etc. "
   ]
  },
  {
   "cell_type": "code",
   "execution_count": 1,
   "metadata": {},
   "outputs": [],
   "source": [
    "# import libraries\n",
    "import numpy as np\n",
    "import pandas as pd\n",
    "import matplotlib.pyplot as plt\n",
    "\n",
    "from scipy import stats as st\n",
    "from bioinfokit.analys import get_data\n",
    "\n",
    "# analysis parameters\n",
    "data_file = \"GECC FYP Survey.csv\"\n",
    "\n",
    "DRINKING_CONSUMPTION_LIGHT = 1\n",
    "DRINKING_CONSUMPTION_MEDIUM = 3\n",
    "DRINKING_CONSUMPTION_HEAVY = 15"
   ]
  },
  {
   "cell_type": "code",
   "execution_count": 2,
   "metadata": {},
   "outputs": [
    {
     "data": {
      "text/html": [
       "<div>\n",
       "<style scoped>\n",
       "    .dataframe tbody tr th:only-of-type {\n",
       "        vertical-align: middle;\n",
       "    }\n",
       "\n",
       "    .dataframe tbody tr th {\n",
       "        vertical-align: top;\n",
       "    }\n",
       "\n",
       "    .dataframe thead th {\n",
       "        text-align: right;\n",
       "    }\n",
       "</style>\n",
       "<table border=\"1\" class=\"dataframe\">\n",
       "  <thead>\n",
       "    <tr style=\"text-align: right;\">\n",
       "      <th></th>\n",
       "      <th>gender</th>\n",
       "      <th>age</th>\n",
       "      <th>local_or_non_local</th>\n",
       "      <th>university</th>\n",
       "      <th>current_study</th>\n",
       "      <th>year_of_study</th>\n",
       "      <th>drinking_frequency</th>\n",
       "      <th>drinking_consumption_amount</th>\n",
       "      <th>drinking_frequency_six_servings</th>\n",
       "      <th>type_of_drink</th>\n",
       "      <th>drinking_occasion</th>\n",
       "      <th>drinking_frequency_before_examination</th>\n",
       "      <th>gpa</th>\n",
       "      <th>activity_1</th>\n",
       "      <th>activity_2</th>\n",
       "      <th>academic_achievements</th>\n",
       "      <th>professional_examinations</th>\n",
       "      <th>nationality</th>\n",
       "    </tr>\n",
       "  </thead>\n",
       "  <tbody>\n",
       "    <tr>\n",
       "      <th>1</th>\n",
       "      <td>Male 男性</td>\n",
       "      <td>20</td>\n",
       "      <td>Non-local student 非本地生</td>\n",
       "      <td>The Chinese University of Hong Kong (CUHK) 香港中文大學</td>\n",
       "      <td>Undergraduate student 本科生</td>\n",
       "      <td>4 or above 四年級以上</td>\n",
       "      <td>Monthly or less 少於每月</td>\n",
       "      <td>7.0</td>\n",
       "      <td>Less than once per month 少於每月</td>\n",
       "      <td>Soju 燒酒</td>\n",
       "      <td>Special events (birthdays, graduation, etc.) 特...</td>\n",
       "      <td>Never (0%) 從來不會</td>\n",
       "      <td>3.67</td>\n",
       "      <td>Yes 有</td>\n",
       "      <td>Yes 有</td>\n",
       "      <td>6</td>\n",
       "      <td>0.0</td>\n",
       "      <td>Philipine</td>\n",
       "    </tr>\n",
       "    <tr>\n",
       "      <th>2</th>\n",
       "      <td>Male 男性</td>\n",
       "      <td>21</td>\n",
       "      <td>Non-local student 非本地生</td>\n",
       "      <td>The Chinese University of Hong Kong (CUHK) 香港中文大學</td>\n",
       "      <td>Undergraduate student 本科生</td>\n",
       "      <td>4 or above 四年級以上</td>\n",
       "      <td>2-4 times a month 每月二至四次</td>\n",
       "      <td>3.0</td>\n",
       "      <td>Less than once per month 少於每月</td>\n",
       "      <td>Soju 燒酒</td>\n",
       "      <td>Special events (birthdays, graduation, etc.) 特...</td>\n",
       "      <td>Never (0%) 從來不會</td>\n",
       "      <td>3.33</td>\n",
       "      <td>Yes 有</td>\n",
       "      <td>Yes 有</td>\n",
       "      <td>5</td>\n",
       "      <td>0.0</td>\n",
       "      <td>Indonesia</td>\n",
       "    </tr>\n",
       "    <tr>\n",
       "      <th>4</th>\n",
       "      <td>Male 男性</td>\n",
       "      <td>21</td>\n",
       "      <td>Non-local student 非本地生</td>\n",
       "      <td>The Chinese University of Hong Kong (CUHK) 香港中文大學</td>\n",
       "      <td>Undergraduate student 本科生</td>\n",
       "      <td>4 or above 四年級以上</td>\n",
       "      <td>2-4 times a month 每月二至四次</td>\n",
       "      <td>2.0</td>\n",
       "      <td>Less than once per month 少於每月</td>\n",
       "      <td>Soju 燒酒</td>\n",
       "      <td>Special events (birthdays, graduation, etc.) 特...</td>\n",
       "      <td>Never (0%) 從來不會</td>\n",
       "      <td>3.55</td>\n",
       "      <td>Yes 有</td>\n",
       "      <td>No 沒有</td>\n",
       "      <td>4</td>\n",
       "      <td>0.0</td>\n",
       "      <td>Indonesia</td>\n",
       "    </tr>\n",
       "    <tr>\n",
       "      <th>5</th>\n",
       "      <td>Female 女性</td>\n",
       "      <td>21</td>\n",
       "      <td>Non-local student 非本地生</td>\n",
       "      <td>The Chinese University of Hong Kong (CUHK) 香港中文大學</td>\n",
       "      <td>Undergraduate student 本科生</td>\n",
       "      <td>4 or above 四年級以上</td>\n",
       "      <td>2-4 times a month 每月二至四次</td>\n",
       "      <td>3.0</td>\n",
       "      <td>Less than once per month 少於每月</td>\n",
       "      <td>Cocktails</td>\n",
       "      <td>Special events (birthdays, graduation, etc.) 特...</td>\n",
       "      <td>Never (0%) 從來不會</td>\n",
       "      <td>3.50</td>\n",
       "      <td>Yes 有</td>\n",
       "      <td>No 沒有</td>\n",
       "      <td>6</td>\n",
       "      <td>0.0</td>\n",
       "      <td>Indonesia</td>\n",
       "    </tr>\n",
       "    <tr>\n",
       "      <th>6</th>\n",
       "      <td>Male 男性</td>\n",
       "      <td>20</td>\n",
       "      <td>Non-local student 非本地生</td>\n",
       "      <td>The Chinese University of Hong Kong (CUHK) 香港中文大學</td>\n",
       "      <td>Undergraduate student 本科生</td>\n",
       "      <td>4 or above 四年級以上</td>\n",
       "      <td>2-3 times a week 每週二至三次</td>\n",
       "      <td>3.0</td>\n",
       "      <td>Weekly 每週</td>\n",
       "      <td>Whiskey 威士忌</td>\n",
       "      <td>Special events (birthdays, graduation, etc.) 特...</td>\n",
       "      <td>Occasionally (20%) 偶爾</td>\n",
       "      <td>3.60</td>\n",
       "      <td>Yes 有</td>\n",
       "      <td>No 沒有</td>\n",
       "      <td>2</td>\n",
       "      <td>0.0</td>\n",
       "      <td>Taiwan</td>\n",
       "    </tr>\n",
       "  </tbody>\n",
       "</table>\n",
       "</div>"
      ],
      "text/plain": [
       "      gender  age      local_or_non_local  \\\n",
       "1    Male 男性   20  Non-local student 非本地生   \n",
       "2    Male 男性   21  Non-local student 非本地生   \n",
       "4    Male 男性   21  Non-local student 非本地生   \n",
       "5  Female 女性   21  Non-local student 非本地生   \n",
       "6    Male 男性   20  Non-local student 非本地生   \n",
       "\n",
       "                                          university  \\\n",
       "1  The Chinese University of Hong Kong (CUHK) 香港中文大學   \n",
       "2  The Chinese University of Hong Kong (CUHK) 香港中文大學   \n",
       "4  The Chinese University of Hong Kong (CUHK) 香港中文大學   \n",
       "5  The Chinese University of Hong Kong (CUHK) 香港中文大學   \n",
       "6  The Chinese University of Hong Kong (CUHK) 香港中文大學   \n",
       "\n",
       "               current_study     year_of_study        drinking_frequency  \\\n",
       "1  Undergraduate student 本科生  4 or above 四年級以上      Monthly or less 少於每月   \n",
       "2  Undergraduate student 本科生  4 or above 四年級以上  2-4 times a month 每月二至四次   \n",
       "4  Undergraduate student 本科生  4 or above 四年級以上  2-4 times a month 每月二至四次   \n",
       "5  Undergraduate student 本科生  4 or above 四年級以上  2-4 times a month 每月二至四次   \n",
       "6  Undergraduate student 本科生  4 or above 四年級以上   2-3 times a week 每週二至三次   \n",
       "\n",
       "   drinking_consumption_amount drinking_frequency_six_servings type_of_drink  \\\n",
       "1                          7.0   Less than once per month 少於每月       Soju 燒酒   \n",
       "2                          3.0   Less than once per month 少於每月       Soju 燒酒   \n",
       "4                          2.0   Less than once per month 少於每月       Soju 燒酒   \n",
       "5                          3.0   Less than once per month 少於每月     Cocktails   \n",
       "6                          3.0                       Weekly 每週   Whiskey 威士忌   \n",
       "\n",
       "                                   drinking_occasion  \\\n",
       "1  Special events (birthdays, graduation, etc.) 特...   \n",
       "2  Special events (birthdays, graduation, etc.) 特...   \n",
       "4  Special events (birthdays, graduation, etc.) 特...   \n",
       "5  Special events (birthdays, graduation, etc.) 特...   \n",
       "6  Special events (birthdays, graduation, etc.) 特...   \n",
       "\n",
       "  drinking_frequency_before_examination   gpa activity_1 activity_2  \\\n",
       "1                       Never (0%) 從來不會  3.67      Yes 有      Yes 有   \n",
       "2                       Never (0%) 從來不會  3.33      Yes 有      Yes 有   \n",
       "4                       Never (0%) 從來不會  3.55      Yes 有      No 沒有   \n",
       "5                       Never (0%) 從來不會  3.50      Yes 有      No 沒有   \n",
       "6                 Occasionally (20%) 偶爾  3.60      Yes 有      No 沒有   \n",
       "\n",
       "   academic_achievements  professional_examinations nationality  \n",
       "1                      6                        0.0   Philipine  \n",
       "2                      5                        0.0   Indonesia  \n",
       "4                      4                        0.0   Indonesia  \n",
       "5                      6                        0.0   Indonesia  \n",
       "6                      2                        0.0      Taiwan  "
      ]
     },
     "execution_count": 2,
     "metadata": {},
     "output_type": "execute_result"
    }
   ],
   "source": [
    "# setup dataframe\n",
    "\n",
    "# read file\n",
    "df = pd.read_csv(data_file)\n",
    "\n",
    "'''\n",
    "    rename columns to readable format\n",
    "    activity_1 = join for student club / organization / student union\n",
    "    activity_2 = exco for student club / organization / student union\n",
    "'''\n",
    "df.columns = [\n",
    "    \"time\", \n",
    "    \"gender\", \n",
    "    \"age\", \n",
    "    \"local_or_non_local\", \n",
    "    \"nationality_current\", # voided\n",
    "    \"university\", \n",
    "    \"current_study\", \n",
    "    \"year_of_study\", \n",
    "    \"drinking_frequency\", \n",
    "    \"drinking_consumption_amount\", \n",
    "    \"drinking_frequency_six_servings\", \n",
    "    \"type_of_drink\",\n",
    "    \"drinking_occasion\", \n",
    "    \"attention_test\", \n",
    "    \"drinking_frequency_before_examination\", \n",
    "    \"gpa\", \n",
    "    \"activity_1\", \n",
    "    \"activity_2\", \n",
    "    \"academic_achievements\", \n",
    "    \"professional_examinations\", \n",
    "    \"nationality_extra\" # voided\n",
    "    # nationality\n",
    "]\n",
    "\n",
    "# fix nationality columns\n",
    "df[\"nationality\"] = df.nationality_current.combine_first(df.nationality_extra)\n",
    "df.loc[ df[\"nationality\"] == \"Malaysian 馬來西亞\", \"nationality\" ] = \"Malaysia\"\n",
    "df.loc[ df[\"nationality\"] == \"Philippine 菲律賓\", \"nationality\" ] = \"Philipine\"\n",
    "df.loc[ df[\"nationality\"] == \"Indonesian 印尼\", \"nationality\" ] = \"Indonesia\"\n",
    "df.drop(columns=[\"nationality_current\", \"nationality_extra\"], inplace=True)\n",
    "\n",
    "# filter based on valid response\n",
    "df = df.loc[ df[\"attention_test\"] == \"Italian 義式\" ]\n",
    "df = df.loc[ df[\"gpa\"] > 1 ]\n",
    "df = df.loc[ (df.drinking_consumption_amount == 0) | ~(df.drinking_frequency == \"Never 從來不飲用\") ]\n",
    "\n",
    "# drop unnecessary columns\n",
    "df.drop(columns=[\"time\", \"attention_test\"], inplace=True)\n",
    "\n",
    "df.head()\n"
   ]
  },
  {
   "cell_type": "code",
   "execution_count": 3,
   "metadata": {},
   "outputs": [
    {
     "name": "stdout",
     "output_type": "stream",
     "text": [
      "Number of non drinker 14\n",
      "Number of drinker 80\n",
      "Number of light drinker 26\n",
      "Number of medium drinker 35\n",
      "Number of heavy drinker 19\n"
     ]
    }
   ],
   "source": [
    "df_non_drinker  = df.loc[ df[\"drinking_consumption_amount\"] == 0]\n",
    "df_drinker = df.loc[ ~(df[\"drinking_consumption_amount\"] == 0)]\n",
    "df_light_drinker  = df.loc[ (df[\"drinking_consumption_amount\"] <= DRINKING_CONSUMPTION_LIGHT) & (df[\"drinking_consumption_amount\"] > 0)]\n",
    "df_medium_drinker = df.loc[ (df[\"drinking_consumption_amount\"] <= DRINKING_CONSUMPTION_MEDIUM) & (df[\"drinking_consumption_amount\"] > DRINKING_CONSUMPTION_LIGHT) ]\n",
    "df_heavy_drinker  = df.loc[ (df[\"drinking_consumption_amount\"] <= DRINKING_CONSUMPTION_HEAVY) & (df[\"drinking_consumption_amount\"] > DRINKING_CONSUMPTION_MEDIUM) ]\n",
    "\n",
    "print(\"Number of non drinker\", len(df_non_drinker))\n",
    "print(\"Number of drinker\", len(df_drinker))\n",
    "print(\"Number of light drinker\", len(df_light_drinker))\n",
    "print(\"Number of medium drinker\", len(df_medium_drinker))\n",
    "print(\"Number of heavy drinker\", len(df_heavy_drinker))"
   ]
  },
  {
   "cell_type": "code",
   "execution_count": 4,
   "metadata": {},
   "outputs": [
    {
     "name": "stdout",
     "output_type": "stream",
     "text": [
      "      gender  0\n",
      "0  Female 女性  9\n",
      "1    Male 男性  5\n",
      "\n",
      "                    gender   0\n",
      "0                Female 女性  39\n",
      "1                  Male 男性  39\n",
      "2  Prefer not to say 不方便透露   2\n"
     ]
    }
   ],
   "source": [
    "# general overview drinker vs non drinker\n",
    "\n",
    "# gender\n",
    "df_non_drinker_gender = df_non_drinker.groupby(\"gender\").size().reset_index()\n",
    "df_drinker_gender = df_drinker.groupby(\"gender\").size().reset_index()\n",
    "\n",
    "print(df_non_drinker_gender)\n",
    "print()\n",
    "print(df_drinker_gender)\n"
   ]
  },
  {
   "cell_type": "code",
   "execution_count": 5,
   "metadata": {},
   "outputs": [
    {
     "name": "stdout",
     "output_type": "stream",
     "text": [
      "      gender  0\n",
      "0  Female 女性  9\n",
      "1    Male 男性  5\n",
      "\n",
      "                    gender   0\n",
      "0                Female 女性  39\n",
      "1                  Male 男性  39\n",
      "2  Prefer not to say 不方便透露   2\n"
     ]
    }
   ],
   "source": [
    "# year of study\n",
    "df_non_drinker_year_of_study = df_non_drinker.groupby(\"year_of_study\").size().reset_index()\n",
    "df_drinker_year_of_study = df_drinker.groupby(\"year_of_study\").size().reset_index()\n",
    "\n",
    "print(df_non_drinker_gender)\n",
    "print()\n",
    "print(df_drinker_gender)"
   ]
  },
  {
   "cell_type": "code",
   "execution_count": 6,
   "metadata": {},
   "outputs": [
    {
     "name": "stdout",
     "output_type": "stream",
     "text": [
      "  nationality  0\n",
      "0       China  3\n",
      "1   Hong Kong  8\n",
      "2   Indonesia  1\n",
      "3  Kazakhstan  1\n",
      "4      Taiwan  1\n",
      "\n",
      "       nationality   0\n",
      "0            China   5\n",
      "1        Hong Kong  25\n",
      "2            India   2\n",
      "3        Indonesia  27\n",
      "4       Kazakhstan   1\n",
      "5     Korea, South   1\n",
      "6         Malaysia   1\n",
      "7        Philipine   1\n",
      "8           Russia   1\n",
      "9           Taiwan  14\n",
      "10  United Kingdom   1\n",
      "11   United States   1\n"
     ]
    }
   ],
   "source": [
    "# nationality\n",
    "df_non_drinker_nationality = df_non_drinker.groupby(\"nationality\").size().reset_index()\n",
    "df_drinker_nationality = df_drinker.groupby(\"nationality\").size().reset_index()\n",
    "\n",
    "print(df_non_drinker_nationality)\n",
    "print()\n",
    "print(df_drinker_nationality)\n"
   ]
  },
  {
   "cell_type": "markdown",
   "metadata": {},
   "source": [
    "# Hypothesis Testing (Drinker vs. Non Drinker)\n",
    "Hypothesis testing using z value since sample size is assumed to be large and the level of significance will be 5%\n",
    "\n",
    "$H_0$: average gpa of drinker and non drinker are similar\n",
    "\n",
    "$H_1$: average gpa of drinker and non drinker are different\n",
    "\n",
    "since significance level is 5%, the z-score that is expected to satisfied the null hyphothesis should be $\\pm$ 1.96, where the z-score can be calculated as follow:\n",
    "\n",
    "$$\n",
    "    Z_s = \\frac{X-\\bar{X}}{\\sqrt{\\frac{S_1^2}{n_1} + \\frac{S_2^2}{n_2}}}\n",
    "$$"
   ]
  },
  {
   "cell_type": "code",
   "execution_count": 7,
   "metadata": {},
   "outputs": [
    {
     "name": "stdout",
     "output_type": "stream",
     "text": [
      "2.0539635998755257\n"
     ]
    }
   ],
   "source": [
    "non_drinker_mean_gpa = df_non_drinker[\"gpa\"].replace(0, np.nan).dropna().mean()\n",
    "non_drinker_std_gpa = df_non_drinker[\"gpa\"].replace(0, np.nan).dropna().std()\n",
    "non_drinker_size = len(df_non_drinker[\"gpa\"].replace(0, np.nan).dropna())\n",
    "\n",
    "drinker_mean_gpa = df_drinker[\"gpa\"].replace(0, np.nan).dropna().mean()\n",
    "drinker_std_gpa = df_drinker[\"gpa\"].replace(0, np.nan).dropna().std()\n",
    "drinker_size = len(df_drinker[\"gpa\"].replace(0, np.nan).dropna())\n",
    "\n",
    "z_score_gpa_drink = (non_drinker_mean_gpa - drinker_mean_gpa) / (np.sqrt( non_drinker_std_gpa**2 / non_drinker_size + drinker_std_gpa**2 / drinker_size))\n",
    "print(z_score_gpa_drink)\n"
   ]
  },
  {
   "cell_type": "markdown",
   "metadata": {},
   "source": [
    "result of the z score is 2.06074 which is in the range of rejection of null hypothesis. Therefore, we can conclude that the non drinker students has $\\bold{higher}$ gpa than drinker students ($Z_s > Z_{cv}$)"
   ]
  },
  {
   "cell_type": "code",
   "execution_count": 8,
   "metadata": {},
   "outputs": [
    {
     "name": "stdout",
     "output_type": "stream",
     "text": [
      "0.8127512275568874\n",
      "0.24436878595447292\n"
     ]
    }
   ],
   "source": [
    "z_score_academic_achievement = (df_non_drinker[\"academic_achievements\"].mean() - df_drinker[\"academic_achievements\"].mean()) / (np.sqrt( df_non_drinker[\"academic_achievements\"].std()**2 / len(df_non_drinker[\"academic_achievements\"]) + df_drinker[\"academic_achievements\"].std()**2 / len(df_drinker[\"academic_achievements\"])))\n",
    "z_score_professional_examinations = (df_non_drinker[\"professional_examinations\"].mean() - df_drinker[\"professional_examinations\"].mean()) / (np.sqrt( df_non_drinker[\"professional_examinations\"].std()**2 / len(df_non_drinker[\"professional_examinations\"]) + df_drinker[\"professional_examinations\"].std()**2 / len(df_drinker[\"professional_examinations\"])))\n",
    "print(z_score_academic_achievement)\n",
    "print(z_score_professional_examinations)"
   ]
  },
  {
   "cell_type": "markdown",
   "metadata": {},
   "source": [
    "result of z-score for both academic achievements and professional examinations are within the acceptance range for null hypothesis. Therefore we can conclude that there is no difference between drinkers and non drinkers."
   ]
  },
  {
   "cell_type": "markdown",
   "metadata": {},
   "source": [
    "# Hypothesis Testing (Amount of drinks vs. GPA)"
   ]
  },
  {
   "cell_type": "code",
   "execution_count": 9,
   "metadata": {},
   "outputs": [
    {
     "data": {
      "image/png": "[encoded data removed]",
      "text/plain": [
       "<Figure size 432x288 with 1 Axes>"
      ]
     },
     "metadata": {
      "needs_background": "light"
     },
     "output_type": "display_data"
    }
   ],
   "source": [
    "df_drink_amount_average = df_drinker.groupby(\"drinking_consumption_amount\").mean().reset_index()\n",
    "plt.scatter(df_drink_amount_average[\"drinking_consumption_amount\"], df_drink_amount_average[\"gpa\"])\n",
    "plt.show()\n"
   ]
  },
  {
   "cell_type": "code",
   "execution_count": 10,
   "metadata": {},
   "outputs": [
    {
     "data": {
      "image/png": "[encoded data removed]",
      "text/plain": [
       "<Figure size 432x288 with 1 Axes>"
      ]
     },
     "metadata": {
      "needs_background": "light"
     },
     "output_type": "display_data"
    }
   ],
   "source": [
    "plt.scatter(df_drink_amount_average[\"drinking_consumption_amount\"], df_drink_amount_average[\"academic_achievements\"])\n",
    "plt.show()"
   ]
  },
  {
   "cell_type": "code",
   "execution_count": 11,
   "metadata": {},
   "outputs": [
    {
     "data": {
      "image/png": "[encoded data removed]",
      "text/plain": [
       "<Figure size 432x288 with 1 Axes>"
      ]
     },
     "metadata": {
      "needs_background": "light"
     },
     "output_type": "display_data"
    }
   ],
   "source": [
    "plt.scatter(df_drink_amount_average[\"drinking_consumption_amount\"], df_drink_amount_average[\"professional_examinations\"])\n",
    "plt.show()"
   ]
  },
  {
   "cell_type": "markdown",
   "metadata": {},
   "source": [
    "# Quantifying categorical values"
   ]
  },
  {
   "cell_type": "code",
   "execution_count": 12,
   "metadata": {},
   "outputs": [
    {
     "name": "stderr",
     "output_type": "stream",
     "text": [
      "/opt/anaconda3/envs/gecc-fyp/lib/python3.8/site-packages/pandas/core/indexing.py:1817: SettingWithCopyWarning: \n",
      "A value is trying to be set on a copy of a slice from a DataFrame.\n",
      "Try using .loc[row_indexer,col_indexer] = value instead\n",
      "\n",
      "See the caveats in the documentation: https://pandas.pydata.org/pandas-docs/stable/user_guide/indexing.html#returning-a-view-versus-a-copy\n",
      "  self._setitem_single_column(loc, value, pi)\n"
     ]
    }
   ],
   "source": [
    "df_drinker_quantified = df_drinker\n",
    "\n",
    "df_drinker_quantified.loc[ df.year_of_study == \"4 or above 四年級以上\", \"year_of_study\" ] = 4\n",
    "\n",
    "df_drinker_quantified.loc[ df.drinking_frequency == \"Monthly or less 少於每月\", \"drinking_frequency\" ] = 1\n",
    "df_drinker_quantified.loc[ df.drinking_frequency == \"Monthly or less 少於一個月\", \"drinking_frequency\" ] = 1\n",
    "df_drinker_quantified.loc[ df.drinking_frequency == \"2-4 times a month 每月二至四次\", \"drinking_frequency\" ] = 3\n",
    "df_drinker_quantified.loc[ df.drinking_frequency == \"2-3 times a week 每週二至三次\", \"drinking_frequency\" ] = 10\n",
    "df_drinker_quantified.loc[ df.drinking_frequency == \"4 or more times a week 每週四次以上\", \"drinking_frequency\" ] = 16\n",
    "\n",
    "df_drinker_quantified.loc[ df.drinking_frequency_six_servings == \"Daily or almost daily 每天或幾乎每天\", \"drinking_frequency_six_servings\" ] = 16\n",
    "df_drinker_quantified.loc[ df.drinking_frequency_six_servings == \"Weekly 每週\", \"drinking_frequency_six_servings\" ] = 4\n",
    "df_drinker_quantified.loc[ df.drinking_frequency_six_servings == \"Monthly 每月\", \"drinking_frequency_six_servings\" ] = 1\n",
    "df_drinker_quantified.loc[ df.drinking_frequency_six_servings == \"Less than once per month 少於每月\", \"drinking_frequency_six_servings\" ] = .5\n",
    "df_drinker_quantified.loc[ df.drinking_frequency_six_servings == \"Less than once per month 少於一個月\", \"drinking_frequency_six_servings\" ] = .5\n",
    "df_drinker_quantified.loc[ df.drinking_frequency_six_servings == \"Never 從來不會\", \"drinking_frequency_six_servings\" ] = 0\n",
    "\n",
    "df_drinker_quantified.loc[ df.drinking_frequency_before_examination == \"Never (0%) 從來不會\", \"drinking_frequency_before_examination\" ] = 0\n",
    "df_drinker_quantified.loc[ df.drinking_frequency_before_examination == \"Occasionally (20%) 偶爾\", \"drinking_frequency_before_examination\" ] = 2\n",
    "df_drinker_quantified.loc[ df.drinking_frequency_before_examination == \"Sometimes (40%) 有時\", \"drinking_frequency_before_examination\" ] = 4\n",
    "df_drinker_quantified.loc[ df.drinking_frequency_before_examination == \"Often (60%) 經常\", \"drinking_frequency_before_examination\" ] = 6\n",
    "df_drinker_quantified.loc[ df.drinking_frequency_before_examination == \"Usually (80%) 通常\", \"drinking_frequency_before_examination\" ] = 8\n",
    "df_drinker_quantified.loc[ df.drinking_frequency_before_examination == \"Always (100%) 總是\", \"drinking_frequency_before_examination\" ] = 10\n",
    "\n",
    "df_drinker_quantified.loc[ df_drinker_quantified.activity_1 == \"Yes 有\", \"activity_1\" ] = 1\n",
    "df_drinker_quantified.loc[ df_drinker_quantified.activity_1 == \"No 沒有\", \"activity_1\" ] = 0\n",
    "\n",
    "df_drinker_quantified.loc[ df_drinker_quantified.activity_2 == \"Yes 有\", \"activity_2\" ] = 1\n",
    "df_drinker_quantified.loc[ df_drinker_quantified.activity_2 == \"No 沒有\", \"activity_2\" ] = 0\n",
    "\n",
    "quantified_columns = [\"year_of_study\", \"drinking_frequency\", \"drinking_consumption_amount\", \"drinking_frequency_six_servings\", \"gpa\", \"activity_1\", \"activity_2\", \"academic_achievements\", \"professional_examinations\"]\n",
    "\n",
    "df_drinker_quantified = df_drinker_quantified[quantified_columns]"
   ]
  },
  {
   "cell_type": "code",
   "execution_count": 27,
   "metadata": {},
   "outputs": [
    {
     "name": "stdout",
     "output_type": "stream",
     "text": [
      "['year_of_study', 'drinking_frequency', 'drinking_consumption_amount', 'drinking_frequency_six_servings', 'gpa']\n",
      "[51.42255106 41.668533    4.09628567  2.49101017  0.32162009]\n"
     ]
    },
    {
     "data": {
      "image/png": "[encoded data removed]",
      "text/plain": [
       "<Figure size 432x288 with 1 Axes>"
      ]
     },
     "metadata": {
      "needs_background": "light"
     },
     "output_type": "display_data"
    }
   ],
   "source": [
    "from sklearn.decomposition import PCA\n",
    "from sklearn import linear_model\n",
    "from sklearn.preprocessing import StandardScaler \n",
    "\n",
    "# X_scaler = StandardScaler()\n",
    "\n",
    "# # selected attribute\n",
    "# attribute = [\"year_of_study\", \"drinking_frequency\", \"drinking_consumption_amount\", \"drinking_frequency_six_servings\", \"gpa\"]\n",
    "# X_train_scaled_attribute = X_scaler.fit_transform(df_drinker_quantified[attribute]) \n",
    "# df_drinker_quantified[attribute] = X_train_scaled_attribute\n",
    "\n",
    "# x_att = df_drinker_quantified[attribute[:-1]]\n",
    "# y_att = df_drinker_quantified[attribute[-1]]\n",
    "\n",
    "# x_att_1 = np.array(x_att[attribute[0]])\n",
    "# x_att_2 = np.array(x_att[attribute[1]])\n",
    "# x_att_3 = np.array(x_att[attribute[2]])\n",
    "# x_att_4 = np.array(x_att[attribute[3]])\n",
    "\n",
    "# y_att_final = np.array(y_att)\n",
    "# n = len(y_att_final)\n",
    "\n",
    "# x_bias = np.ones((n, 1))\n",
    "\n",
    "# x_att_1_reshape = np.reshape(x_att_1, (n, 1))\n",
    "# x_att_2_reshape = np.reshape(x_att_2, (n, 1))\n",
    "# x_att_3_reshape = np.reshape(x_att_3, (n, 1))\n",
    "# x_att_4_reshape = np.reshape(x_att_4, (n, 1))\n",
    "\n",
    "# x_att_final = np.append(x_bias, x_att_1_reshape, axis=1)\n",
    "# x_att_final = np.append(x_att_final, x_att_2_reshape, axis=1)\n",
    "# x_att_final = np.append(x_att_final, x_att_3_reshape, axis=1)\n",
    "# x_prime = np.append(x_att_final, x_att_4_reshape, axis=1)\n",
    "\n",
    "# x_prime_transpose = np.transpose(x_prime)\n",
    "\n",
    "# theta = np.linalg.inv(x_prime_transpose.dot(x_prime)).dot(x_prime_transpose).dot(y_att_final)\n",
    "# print(\"Parameter theta calculated by normal equation:\", theta)\n",
    "\n",
    "pca_tested_label = [\"year_of_study\", \"drinking_frequency\", \"drinking_consumption_amount\", \"drinking_frequency_six_servings\", \"gpa\"]\n",
    "\n",
    "pca = PCA()\n",
    "pca.fit(df_drinker_quantified[pca_tested_label])\n",
    "print(pca_tested_label)\n",
    "print(pca.explained_variance_ratio_ * 100)\n",
    "\n",
    "# lin_regr = linear_model.LinearRegression()\n",
    "# lin_regr.fit(df_drinker_quantified.drop([\"gpa\", \"activity_1\", \"activity_2\", \"academic_achievements\", \"professional_examinations\"], axis=1), df_drinker_quantified[\"gpa\"])\n",
    "# print(lin_regr.coef_)\n",
    "\n",
    "# fig, axs = plt.subplots(2)\n",
    "# axs[0].plot([\"year_of_study\", \"drinking_frequency\", \"drinking_consumption_amount\", \"drinking_frequency_six_servings\"], pca.explained_variance_ratio_)\n",
    "# axs[0].xticks(rotation=45, ha=\"right\")\n",
    "# axs[1].plot([\"year_of_study\", \"drinking_frequency\", \"drinking_consumption_amount\", \"drinking_frequency_six_servings\"], lin_regr.coef_)\n",
    "# axs[1].xticks(rotation=45, ha=\"right\")\n",
    "\n",
    "plt.plot([\"year_of_study\", \"drinking_frequency\", \"drinking_consumption_amount\", \"drinking_frequency_six_servings\", \"gpa\"], pca.explained_variance_ratio_)\n",
    "plt.title(\"Factor of attribute affecting GPA\")\n",
    "plt.ylabel(\"Factor\")\n",
    "plt.xlabel(\"Attribute\")\n",
    "plt.xticks(rotation=45, ha=\"right\")\n",
    "\n",
    "plt.show()"
   ]
  },
  {
   "cell_type": "code",
   "execution_count": 31,
   "metadata": {},
   "outputs": [
    {
     "name": "stderr",
     "output_type": "stream",
     "text": [
      "/opt/anaconda3/envs/gecc-fyp/lib/python3.8/site-packages/matplotlib/backends/backend_agg.py:240: RuntimeWarning: Glyph 23569 missing from current font.\n",
      "  font.set_text(s, 0.0, flags=flags)\n",
      "/opt/anaconda3/envs/gecc-fyp/lib/python3.8/site-packages/matplotlib/backends/backend_agg.py:240: RuntimeWarning: Glyph 26044 missing from current font.\n",
      "  font.set_text(s, 0.0, flags=flags)\n",
      "/opt/anaconda3/envs/gecc-fyp/lib/python3.8/site-packages/matplotlib/backends/backend_agg.py:240: RuntimeWarning: Glyph 27599 missing from current font.\n",
      "  font.set_text(s, 0.0, flags=flags)\n",
      "/opt/anaconda3/envs/gecc-fyp/lib/python3.8/site-packages/matplotlib/backends/backend_agg.py:240: RuntimeWarning: Glyph 26376 missing from current font.\n",
      "  font.set_text(s, 0.0, flags=flags)\n",
      "/opt/anaconda3/envs/gecc-fyp/lib/python3.8/site-packages/matplotlib/backends/backend_agg.py:240: RuntimeWarning: Glyph 20108 missing from current font.\n",
      "  font.set_text(s, 0.0, flags=flags)\n",
      "/opt/anaconda3/envs/gecc-fyp/lib/python3.8/site-packages/matplotlib/backends/backend_agg.py:240: RuntimeWarning: Glyph 33267 missing from current font.\n",
      "  font.set_text(s, 0.0, flags=flags)\n",
      "/opt/anaconda3/envs/gecc-fyp/lib/python3.8/site-packages/matplotlib/backends/backend_agg.py:240: RuntimeWarning: Glyph 22235 missing from current font.\n",
      "  font.set_text(s, 0.0, flags=flags)\n",
      "/opt/anaconda3/envs/gecc-fyp/lib/python3.8/site-packages/matplotlib/backends/backend_agg.py:240: RuntimeWarning: Glyph 27425 missing from current font.\n",
      "  font.set_text(s, 0.0, flags=flags)\n",
      "/opt/anaconda3/envs/gecc-fyp/lib/python3.8/site-packages/matplotlib/backends/backend_agg.py:240: RuntimeWarning: Glyph 36913 missing from current font.\n",
      "  font.set_text(s, 0.0, flags=flags)\n",
      "/opt/anaconda3/envs/gecc-fyp/lib/python3.8/site-packages/matplotlib/backends/backend_agg.py:240: RuntimeWarning: Glyph 19977 missing from current font.\n",
      "  font.set_text(s, 0.0, flags=flags)\n",
      "/opt/anaconda3/envs/gecc-fyp/lib/python3.8/site-packages/matplotlib/backends/backend_agg.py:203: RuntimeWarning: Glyph 23569 missing from current font.\n",
      "  font.set_text(s, 0, flags=flags)\n",
      "/opt/anaconda3/envs/gecc-fyp/lib/python3.8/site-packages/matplotlib/backends/backend_agg.py:203: RuntimeWarning: Glyph 26044 missing from current font.\n",
      "  font.set_text(s, 0, flags=flags)\n",
      "/opt/anaconda3/envs/gecc-fyp/lib/python3.8/site-packages/matplotlib/backends/backend_agg.py:203: RuntimeWarning: Glyph 27599 missing from current font.\n",
      "  font.set_text(s, 0, flags=flags)\n",
      "/opt/anaconda3/envs/gecc-fyp/lib/python3.8/site-packages/matplotlib/backends/backend_agg.py:203: RuntimeWarning: Glyph 26376 missing from current font.\n",
      "  font.set_text(s, 0, flags=flags)\n",
      "/opt/anaconda3/envs/gecc-fyp/lib/python3.8/site-packages/matplotlib/backends/backend_agg.py:203: RuntimeWarning: Glyph 20108 missing from current font.\n",
      "  font.set_text(s, 0, flags=flags)\n",
      "/opt/anaconda3/envs/gecc-fyp/lib/python3.8/site-packages/matplotlib/backends/backend_agg.py:203: RuntimeWarning: Glyph 33267 missing from current font.\n",
      "  font.set_text(s, 0, flags=flags)\n",
      "/opt/anaconda3/envs/gecc-fyp/lib/python3.8/site-packages/matplotlib/backends/backend_agg.py:203: RuntimeWarning: Glyph 22235 missing from current font.\n",
      "  font.set_text(s, 0, flags=flags)\n",
      "/opt/anaconda3/envs/gecc-fyp/lib/python3.8/site-packages/matplotlib/backends/backend_agg.py:203: RuntimeWarning: Glyph 27425 missing from current font.\n",
      "  font.set_text(s, 0, flags=flags)\n",
      "/opt/anaconda3/envs/gecc-fyp/lib/python3.8/site-packages/matplotlib/backends/backend_agg.py:203: RuntimeWarning: Glyph 36913 missing from current font.\n",
      "  font.set_text(s, 0, flags=flags)\n",
      "/opt/anaconda3/envs/gecc-fyp/lib/python3.8/site-packages/matplotlib/backends/backend_agg.py:203: RuntimeWarning: Glyph 19977 missing from current font.\n",
      "  font.set_text(s, 0, flags=flags)\n"
     ]
    },
    {
     "data": {
      "image/png": "[encoded data removed]",
      "text/plain": [
       "<Figure size 432x288 with 1 Axes>"
      ]
     },
     "metadata": {
      "needs_background": "light"
     },
     "output_type": "display_data"
    }
   ],
   "source": [
    "df_drinking_frequency_average = df_drinker[[\"drinking_frequency\", \"gpa\", \"academic_achievements\", \"professional_examinations\"]].groupby(\"drinking_frequency\")\n",
    "plt.scatter(df_drinker[\"drinking_frequency\"], df_drinker[\"gpa\"])\n",
    "plt.show()"
   ]
  },
  {
   "cell_type": "code",
   "execution_count": null,
   "metadata": {},
   "outputs": [],
   "source": [
    "plt.scatter(df_drink_amount_average[\"drinking_frequenccy\"], df_drink_amount_average[\"academic_achievements\"])\n",
    "plt.show()"
   ]
  },
  {
   "cell_type": "code",
   "execution_count": 15,
   "metadata": {},
   "outputs": [
    {
     "data": {
      "text/html": [
       "<div>\n",
       "<style scoped>\n",
       "    .dataframe tbody tr th:only-of-type {\n",
       "        vertical-align: middle;\n",
       "    }\n",
       "\n",
       "    .dataframe tbody tr th {\n",
       "        vertical-align: top;\n",
       "    }\n",
       "\n",
       "    .dataframe thead th {\n",
       "        text-align: right;\n",
       "    }\n",
       "</style>\n",
       "<table border=\"1\" class=\"dataframe\">\n",
       "  <thead>\n",
       "    <tr style=\"text-align: right;\">\n",
       "      <th></th>\n",
       "      <th>gender</th>\n",
       "      <th>age</th>\n",
       "      <th>local_or_non_local</th>\n",
       "      <th>university</th>\n",
       "      <th>current_study</th>\n",
       "      <th>year_of_study</th>\n",
       "      <th>drinking_frequency</th>\n",
       "      <th>drinking_consumption_amount</th>\n",
       "      <th>drinking_frequency_six_servings</th>\n",
       "      <th>type_of_drink</th>\n",
       "      <th>drinking_occasion</th>\n",
       "      <th>drinking_frequency_before_examination</th>\n",
       "      <th>gpa</th>\n",
       "      <th>activity_1</th>\n",
       "      <th>activity_2</th>\n",
       "      <th>academic_achievements</th>\n",
       "      <th>professional_examinations</th>\n",
       "      <th>nationality</th>\n",
       "    </tr>\n",
       "  </thead>\n",
       "  <tbody>\n",
       "    <tr>\n",
       "      <th>74</th>\n",
       "      <td>Female 女性</td>\n",
       "      <td>18</td>\n",
       "      <td>Local student 本地生</td>\n",
       "      <td>The Chinese University of Hong Kong (CUHK) 香港中文大學</td>\n",
       "      <td>Undergraduate student 本科生</td>\n",
       "      <td>2</td>\n",
       "      <td>Never 從來不飲用</td>\n",
       "      <td>0.3</td>\n",
       "      <td>Never 從來不會</td>\n",
       "      <td>I don't consume alcoholic beverage 我不飲用含酒精的飲料</td>\n",
       "      <td>I don't consume alcoholic beverage 我不飲用含酒精的飲料</td>\n",
       "      <td>Never (0%) 從來不會</td>\n",
       "      <td>3.4</td>\n",
       "      <td>Yes 有</td>\n",
       "      <td>No 沒有</td>\n",
       "      <td>0</td>\n",
       "      <td>0.0</td>\n",
       "      <td>Hong Kong</td>\n",
       "    </tr>\n",
       "  </tbody>\n",
       "</table>\n",
       "</div>"
      ],
      "text/plain": [
       "       gender  age local_or_non_local  \\\n",
       "74  Female 女性   18  Local student 本地生   \n",
       "\n",
       "                                           university  \\\n",
       "74  The Chinese University of Hong Kong (CUHK) 香港中文大學   \n",
       "\n",
       "                current_study year_of_study drinking_frequency  \\\n",
       "74  Undergraduate student 本科生             2        Never 從來不飲用   \n",
       "\n",
       "    drinking_consumption_amount drinking_frequency_six_servings  \\\n",
       "74                          0.3                      Never 從來不會   \n",
       "\n",
       "                                    type_of_drink  \\\n",
       "74  I don't consume alcoholic beverage 我不飲用含酒精的飲料   \n",
       "\n",
       "                                drinking_occasion  \\\n",
       "74  I don't consume alcoholic beverage 我不飲用含酒精的飲料   \n",
       "\n",
       "   drinking_frequency_before_examination  gpa activity_1 activity_2  \\\n",
       "74                       Never (0%) 從來不會  3.4      Yes 有      No 沒有   \n",
       "\n",
       "    academic_achievements  professional_examinations nationality  \n",
       "74                      0                        0.0   Hong Kong  "
      ]
     },
     "execution_count": 15,
     "metadata": {},
     "output_type": "execute_result"
    }
   ],
   "source": [
    "df.loc[~(df[\"drinking_consumption_amount\"] == 0) & (df[\"drinking_frequency\"] == \"Never 從來不飲用\")]"
   ]
  },
  {
   "cell_type": "code",
   "execution_count": 28,
   "metadata": {},
   "outputs": [
    {
     "data": {
      "text/html": [
       "<div>\n",
       "<style scoped>\n",
       "    .dataframe tbody tr th:only-of-type {\n",
       "        vertical-align: middle;\n",
       "    }\n",
       "\n",
       "    .dataframe tbody tr th {\n",
       "        vertical-align: top;\n",
       "    }\n",
       "\n",
       "    .dataframe thead th {\n",
       "        text-align: right;\n",
       "    }\n",
       "</style>\n",
       "<table border=\"1\" class=\"dataframe\">\n",
       "  <thead>\n",
       "    <tr style=\"text-align: right;\">\n",
       "      <th></th>\n",
       "      <th>age</th>\n",
       "      <th>drinking_consumption_amount</th>\n",
       "      <th>gpa</th>\n",
       "      <th>academic_achievements</th>\n",
       "      <th>professional_examinations</th>\n",
       "    </tr>\n",
       "  </thead>\n",
       "  <tbody>\n",
       "    <tr>\n",
       "      <th>count</th>\n",
       "      <td>96.000000</td>\n",
       "      <td>96.000000</td>\n",
       "      <td>96.000000</td>\n",
       "      <td>96.000000</td>\n",
       "      <td>96.00000</td>\n",
       "    </tr>\n",
       "    <tr>\n",
       "      <th>mean</th>\n",
       "      <td>20.739583</td>\n",
       "      <td>2.713854</td>\n",
       "      <td>3.405260</td>\n",
       "      <td>2.958333</td>\n",
       "      <td>0.21875</td>\n",
       "    </tr>\n",
       "    <tr>\n",
       "      <th>std</th>\n",
       "      <td>1.495571</td>\n",
       "      <td>3.149420</td>\n",
       "      <td>0.428561</td>\n",
       "      <td>4.306462</td>\n",
       "      <td>0.83607</td>\n",
       "    </tr>\n",
       "    <tr>\n",
       "      <th>min</th>\n",
       "      <td>18.000000</td>\n",
       "      <td>0.000000</td>\n",
       "      <td>0.100000</td>\n",
       "      <td>0.000000</td>\n",
       "      <td>0.00000</td>\n",
       "    </tr>\n",
       "    <tr>\n",
       "      <th>25%</th>\n",
       "      <td>20.000000</td>\n",
       "      <td>1.000000</td>\n",
       "      <td>3.300000</td>\n",
       "      <td>0.000000</td>\n",
       "      <td>0.00000</td>\n",
       "    </tr>\n",
       "    <tr>\n",
       "      <th>50%</th>\n",
       "      <td>21.000000</td>\n",
       "      <td>2.000000</td>\n",
       "      <td>3.460000</td>\n",
       "      <td>2.000000</td>\n",
       "      <td>0.00000</td>\n",
       "    </tr>\n",
       "    <tr>\n",
       "      <th>75%</th>\n",
       "      <td>21.000000</td>\n",
       "      <td>3.000000</td>\n",
       "      <td>3.600000</td>\n",
       "      <td>4.000000</td>\n",
       "      <td>0.00000</td>\n",
       "    </tr>\n",
       "    <tr>\n",
       "      <th>max</th>\n",
       "      <td>28.000000</td>\n",
       "      <td>15.000000</td>\n",
       "      <td>4.000000</td>\n",
       "      <td>25.000000</td>\n",
       "      <td>6.00000</td>\n",
       "    </tr>\n",
       "  </tbody>\n",
       "</table>\n",
       "</div>"
      ],
      "text/plain": [
       "             age  drinking_consumption_amount        gpa  \\\n",
       "count  96.000000                    96.000000  96.000000   \n",
       "mean   20.739583                     2.713854   3.405260   \n",
       "std     1.495571                     3.149420   0.428561   \n",
       "min    18.000000                     0.000000   0.100000   \n",
       "25%    20.000000                     1.000000   3.300000   \n",
       "50%    21.000000                     2.000000   3.460000   \n",
       "75%    21.000000                     3.000000   3.600000   \n",
       "max    28.000000                    15.000000   4.000000   \n",
       "\n",
       "       academic_achievements  professional_examinations  \n",
       "count              96.000000                   96.00000  \n",
       "mean                2.958333                    0.21875  \n",
       "std                 4.306462                    0.83607  \n",
       "min                 0.000000                    0.00000  \n",
       "25%                 0.000000                    0.00000  \n",
       "50%                 2.000000                    0.00000  \n",
       "75%                 4.000000                    0.00000  \n",
       "max                25.000000                    6.00000  "
      ]
     },
     "execution_count": 28,
     "metadata": {},
     "output_type": "execute_result"
    }
   ],
   "source": [
    "df.loc[ ~(df[\"gpa\"] == 0) ].describe()"
   ]
  },
  {
   "cell_type": "code",
   "execution_count": 7,
   "metadata": {},
   "outputs": [
    {
     "name": "stdout",
     "output_type": "stream",
     "text": [
      "3.58225\n",
      "3.377794871794871\n"
     ]
    }
   ],
   "source": [
    "print(df_non_drinker[\"gpa\"].replace(0, np.nan).mean())\n",
    "print(df_drinker[\"gpa\"].replace(0, np.nan).mean())"
   ]
  },
  {
   "cell_type": "code",
   "execution_count": 8,
   "metadata": {},
   "outputs": [
    {
     "data": {
      "text/plain": [
       "21     3.380\n",
       "38     3.780\n",
       "45     3.370\n",
       "47     0.000\n",
       "66     3.540\n",
       "68     3.400\n",
       "69     3.998\n",
       "78     3.480\n",
       "79     0.000\n",
       "84     3.600\n",
       "87     4.000\n",
       "99     0.000\n",
       "107    3.500\n",
       "116    3.839\n",
       "122    3.100\n",
       "Name: gpa, dtype: float64"
      ]
     },
     "execution_count": 8,
     "metadata": {},
     "output_type": "execute_result"
    }
   ],
   "source": [
    "df_non_drinker[\"gpa\"]"
   ]
  },
  {
   "cell_type": "code",
   "execution_count": 14,
   "metadata": {},
   "outputs": [
    {
     "data": {
      "text/plain": [
       "Ttest_indResult(statistic=1.5031804039537333, pvalue=0.13637288748986434)"
      ]
     },
     "execution_count": 14,
     "metadata": {},
     "output_type": "execute_result"
    }
   ],
   "source": [
    "st.ttest_ind(a=df_non_drinker[\"gpa\"].replace(0, np.nan).dropna().to_numpy(), b=df_drinker[\"gpa\"].replace(0, np.nan).dropna().to_numpy(), equal_var=True)"
   ]
  },
  {
   "cell_type": "code",
   "execution_count": 15,
   "metadata": {},
   "outputs": [
    {
     "data": {
      "text/plain": [
       "3.8055392183864387"
      ]
     },
     "execution_count": 15,
     "metadata": {},
     "output_type": "execute_result"
    }
   ],
   "source": [
    "(df_non_drinker[\"gpa\"].replace(0, np.nan).dropna().mean() - df[\"gpa\"].replace(0, np.nan).dropna().mean()) / (df[\"gpa\"].replace(0, np.nan).dropna().std() / len(df[\"gpa\"].replace(0, np.nan).dropna())**0.5)"
   ]
  },
  {
   "cell_type": "code",
   "execution_count": 23,
   "metadata": {},
   "outputs": [
    {
     "data": {
      "text/plain": [
       "25"
      ]
     },
     "execution_count": 23,
     "metadata": {},
     "output_type": "execute_result"
    }
   ],
   "source": [
    "df[\"academic_achievements\"].max()"
   ]
  },
  {
   "cell_type": "code",
   "execution_count": null,
   "metadata": {},
   "outputs": [],
   "source": []
  },
  {
   "cell_type": "code",
   "execution_count": null,
   "metadata": {},
   "outputs": [],
   "source": []
  },
  {
   "cell_type": "code",
   "execution_count": null,
   "metadata": {},
   "outputs": [],
   "source": []
  },
  {
   "cell_type": "code",
   "execution_count": 35,
   "metadata": {},
   "outputs": [
    {
     "data": {
      "text/plain": [
       "<AxesSubplot:xlabel='drinking_consumption_amount'>"
      ]
     },
     "execution_count": 35,
     "metadata": {},
     "output_type": "execute_result"
    },
    {
     "data": {
      "image/png": "[encoded data removed]",
      "text/plain": [
       "<Figure size 432x288 with 1 Axes>"
      ]
     },
     "metadata": {
      "needs_background": "light"
     },
     "output_type": "display_data"
    }
   ],
   "source": [
    "test_df = df[[\"drinking_consumption_amount\", \"gpa\"]]\n",
    "data = test_df.groupby(\"drinking_consumption_amount\").mean()\n",
    "data.plot()\n",
    "# data.set_index(pd.Series(range(len(data))), inplace=True)\n",
    "\n",
    "\n",
    "# plt.bar(x=list(data[\"drinking_consumption_amount\"]), y=list(data[\"gpa\"]), height=1)\n",
    "# plt.xlabel(\"consumption\")\n",
    "# plt.ylabel(\"gpa\")\n",
    "# plt.show()"
   ]
  },
  {
   "cell_type": "code",
   "execution_count": null,
   "metadata": {},
   "outputs": [],
   "source": []
  }
 ],
 "metadata": {
  "kernelspec": {
   "display_name": "Python 3 (ipykernel)",
   "language": "python",
   "name": "python3"
  },
  "language_info": {
   "codemirror_mode": {
    "name": "ipython",
    "version": 3
   },
   "file_extension": ".py",
   "mimetype": "text/x-python",
   "name": "python",
   "nbconvert_exporter": "python",
   "pygments_lexer": "ipython3",
   "version": "3.8.11"
  },
  "orig_nbformat": 4
 },
 "nbformat": 4,
 "nbformat_minor": 2
}
