{
 "cells": [
  {
   "cell_type": "code",
   "execution_count": 1,
   "metadata": {},
   "outputs": [],
   "source": [
    "# import libraries\n",
    "import numpy as np\n",
    "import pandas as pd\n",
    "import matplotlib.pyplot as plt\n",
    "\n",
    "# analysis parameters\n",
    "data_file = \"GECC FYP Survey.csv\"\n",
    "\n",
    "DRINKING_CONSUMPTION_LIGHT = 1\n",
    "DRINKING_CONSUMPTION_MEDIUM = 3\n",
    "DRINKING_CONSUMPTION_HEAVY = 15"
   ]
  },
  {
   "cell_type": "code",
   "execution_count": 2,
   "metadata": {},
   "outputs": [
    {
     "data": {
      "text/html": [
       "<div>\n",
       "<style scoped>\n",
       "    .dataframe tbody tr th:only-of-type {\n",
       "        vertical-align: middle;\n",
       "    }\n",
       "\n",
       "    .dataframe tbody tr th {\n",
       "        vertical-align: top;\n",
       "    }\n",
       "\n",
       "    .dataframe thead th {\n",
       "        text-align: right;\n",
       "    }\n",
       "</style>\n",
       "<table border=\"1\" class=\"dataframe\">\n",
       "  <thead>\n",
       "    <tr style=\"text-align: right;\">\n",
       "      <th></th>\n",
       "      <th>gender</th>\n",
       "      <th>age</th>\n",
       "      <th>local_or_non_local</th>\n",
       "      <th>university</th>\n",
       "      <th>current_study</th>\n",
       "      <th>year_of_study</th>\n",
       "      <th>drinking_frequency</th>\n",
       "      <th>drinking_consumption_amount</th>\n",
       "      <th>drinking_frequency_six_servings</th>\n",
       "      <th>type_of_drink</th>\n",
       "      <th>drinking_occasion</th>\n",
       "      <th>drinking_frequency_before_examination</th>\n",
       "      <th>gpa</th>\n",
       "      <th>activity_1</th>\n",
       "      <th>activity_2</th>\n",
       "      <th>academic_achievements</th>\n",
       "      <th>professional_examinations</th>\n",
       "      <th>nationality</th>\n",
       "    </tr>\n",
       "  </thead>\n",
       "  <tbody>\n",
       "    <tr>\n",
       "      <th>0</th>\n",
       "      <td>Male 男性</td>\n",
       "      <td>21</td>\n",
       "      <td>Non-local student 非本地生</td>\n",
       "      <td>The Chinese University of Hong Kong (CUHK) 香港中文大學</td>\n",
       "      <td>Undergraduate student 本科生</td>\n",
       "      <td>4 or above 四年級以上</td>\n",
       "      <td>Monthly or less 少於一個月</td>\n",
       "      <td>5.0</td>\n",
       "      <td>Less than once per month 少於一個月</td>\n",
       "      <td>Soju 燒酒</td>\n",
       "      <td>Special events (birthdays, graduation, etc.) 特...</td>\n",
       "      <td>Never (0%) 從來不會</td>\n",
       "      <td>3.70</td>\n",
       "      <td>Yes 有</td>\n",
       "      <td>Yes 有</td>\n",
       "      <td>10</td>\n",
       "      <td>0.0</td>\n",
       "      <td>Malaysia</td>\n",
       "    </tr>\n",
       "    <tr>\n",
       "      <th>1</th>\n",
       "      <td>Male 男性</td>\n",
       "      <td>20</td>\n",
       "      <td>Non-local student 非本地生</td>\n",
       "      <td>The Chinese University of Hong Kong (CUHK) 香港中文大學</td>\n",
       "      <td>Undergraduate student 本科生</td>\n",
       "      <td>4 or above 四年級以上</td>\n",
       "      <td>Monthly or less 少於每月</td>\n",
       "      <td>7.0</td>\n",
       "      <td>Less than once per month 少於每月</td>\n",
       "      <td>Soju 燒酒</td>\n",
       "      <td>Special events (birthdays, graduation, etc.) 特...</td>\n",
       "      <td>Never (0%) 從來不會</td>\n",
       "      <td>3.67</td>\n",
       "      <td>Yes 有</td>\n",
       "      <td>Yes 有</td>\n",
       "      <td>6</td>\n",
       "      <td>0.0</td>\n",
       "      <td>Philipine</td>\n",
       "    </tr>\n",
       "    <tr>\n",
       "      <th>2</th>\n",
       "      <td>Male 男性</td>\n",
       "      <td>21</td>\n",
       "      <td>Non-local student 非本地生</td>\n",
       "      <td>The Chinese University of Hong Kong (CUHK) 香港中文大學</td>\n",
       "      <td>Undergraduate student 本科生</td>\n",
       "      <td>4 or above 四年級以上</td>\n",
       "      <td>2-4 times a month 每月二至四次</td>\n",
       "      <td>3.0</td>\n",
       "      <td>Less than once per month 少於每月</td>\n",
       "      <td>Soju 燒酒</td>\n",
       "      <td>Special events (birthdays, graduation, etc.) 特...</td>\n",
       "      <td>Never (0%) 從來不會</td>\n",
       "      <td>3.33</td>\n",
       "      <td>Yes 有</td>\n",
       "      <td>Yes 有</td>\n",
       "      <td>5</td>\n",
       "      <td>0.0</td>\n",
       "      <td>Indonesia</td>\n",
       "    </tr>\n",
       "    <tr>\n",
       "      <th>3</th>\n",
       "      <td>Female 女性</td>\n",
       "      <td>22</td>\n",
       "      <td>Non-local student 非本地生</td>\n",
       "      <td>The Chinese University of Hong Kong (CUHK) 香港中文大學</td>\n",
       "      <td>Undergraduate student 本科生</td>\n",
       "      <td>4 or above 四年級以上</td>\n",
       "      <td>Monthly or less 少於每月</td>\n",
       "      <td>1.0</td>\n",
       "      <td>Never 從來不會</td>\n",
       "      <td>Soju 燒酒</td>\n",
       "      <td>Special events (birthdays, graduation, etc.) 特...</td>\n",
       "      <td>Never (0%) 從來不會</td>\n",
       "      <td>3.41</td>\n",
       "      <td>Yes 有</td>\n",
       "      <td>Yes 有</td>\n",
       "      <td>0</td>\n",
       "      <td>0.0</td>\n",
       "      <td>Indonesia</td>\n",
       "    </tr>\n",
       "    <tr>\n",
       "      <th>4</th>\n",
       "      <td>Male 男性</td>\n",
       "      <td>21</td>\n",
       "      <td>Non-local student 非本地生</td>\n",
       "      <td>The Chinese University of Hong Kong (CUHK) 香港中文大學</td>\n",
       "      <td>Undergraduate student 本科生</td>\n",
       "      <td>4 or above 四年級以上</td>\n",
       "      <td>2-4 times a month 每月二至四次</td>\n",
       "      <td>2.0</td>\n",
       "      <td>Less than once per month 少於每月</td>\n",
       "      <td>Soju 燒酒</td>\n",
       "      <td>Special events (birthdays, graduation, etc.) 特...</td>\n",
       "      <td>Never (0%) 從來不會</td>\n",
       "      <td>3.55</td>\n",
       "      <td>Yes 有</td>\n",
       "      <td>No 沒有</td>\n",
       "      <td>4</td>\n",
       "      <td>0.0</td>\n",
       "      <td>Indonesia</td>\n",
       "    </tr>\n",
       "  </tbody>\n",
       "</table>\n",
       "</div>"
      ],
      "text/plain": [
       "      gender  age      local_or_non_local  \\\n",
       "0    Male 男性   21  Non-local student 非本地生   \n",
       "1    Male 男性   20  Non-local student 非本地生   \n",
       "2    Male 男性   21  Non-local student 非本地生   \n",
       "3  Female 女性   22  Non-local student 非本地生   \n",
       "4    Male 男性   21  Non-local student 非本地生   \n",
       "\n",
       "                                          university  \\\n",
       "0  The Chinese University of Hong Kong (CUHK) 香港中文大學   \n",
       "1  The Chinese University of Hong Kong (CUHK) 香港中文大學   \n",
       "2  The Chinese University of Hong Kong (CUHK) 香港中文大學   \n",
       "3  The Chinese University of Hong Kong (CUHK) 香港中文大學   \n",
       "4  The Chinese University of Hong Kong (CUHK) 香港中文大學   \n",
       "\n",
       "               current_study     year_of_study        drinking_frequency  \\\n",
       "0  Undergraduate student 本科生  4 or above 四年級以上     Monthly or less 少於一個月   \n",
       "1  Undergraduate student 本科生  4 or above 四年級以上      Monthly or less 少於每月   \n",
       "2  Undergraduate student 本科生  4 or above 四年級以上  2-4 times a month 每月二至四次   \n",
       "3  Undergraduate student 本科生  4 or above 四年級以上      Monthly or less 少於每月   \n",
       "4  Undergraduate student 本科生  4 or above 四年級以上  2-4 times a month 每月二至四次   \n",
       "\n",
       "   drinking_consumption_amount drinking_frequency_six_servings type_of_drink  \\\n",
       "0                          5.0  Less than once per month 少於一個月       Soju 燒酒   \n",
       "1                          7.0   Less than once per month 少於每月       Soju 燒酒   \n",
       "2                          3.0   Less than once per month 少於每月       Soju 燒酒   \n",
       "3                          1.0                      Never 從來不會       Soju 燒酒   \n",
       "4                          2.0   Less than once per month 少於每月       Soju 燒酒   \n",
       "\n",
       "                                   drinking_occasion  \\\n",
       "0  Special events (birthdays, graduation, etc.) 特...   \n",
       "1  Special events (birthdays, graduation, etc.) 特...   \n",
       "2  Special events (birthdays, graduation, etc.) 特...   \n",
       "3  Special events (birthdays, graduation, etc.) 特...   \n",
       "4  Special events (birthdays, graduation, etc.) 特...   \n",
       "\n",
       "  drinking_frequency_before_examination   gpa activity_1 activity_2  \\\n",
       "0                       Never (0%) 從來不會  3.70      Yes 有      Yes 有   \n",
       "1                       Never (0%) 從來不會  3.67      Yes 有      Yes 有   \n",
       "2                       Never (0%) 從來不會  3.33      Yes 有      Yes 有   \n",
       "3                       Never (0%) 從來不會  3.41      Yes 有      Yes 有   \n",
       "4                       Never (0%) 從來不會  3.55      Yes 有      No 沒有   \n",
       "\n",
       "   academic_achievements  professional_examinations nationality  \n",
       "0                     10                        0.0    Malaysia  \n",
       "1                      6                        0.0   Philipine  \n",
       "2                      5                        0.0   Indonesia  \n",
       "3                      0                        0.0   Indonesia  \n",
       "4                      4                        0.0   Indonesia  "
      ]
     },
     "execution_count": 2,
     "metadata": {},
     "output_type": "execute_result"
    }
   ],
   "source": [
    "# setup dataframe\n",
    "\n",
    "# read file\n",
    "df = pd.read_csv(data_file)\n",
    "\n",
    "'''\n",
    "    rename columns to readable format\n",
    "    activity_1 = join for student club / organization / student union\n",
    "    activity_2 = exco for student club / organization / student union\n",
    "'''\n",
    "df.columns = [\n",
    "    \"time\", \n",
    "    \"gender\", \n",
    "    \"age\", \n",
    "    \"local_or_non_local\", \n",
    "    \"nationality_current\", # voided\n",
    "    \"university\", \n",
    "    \"current_study\", \n",
    "    \"year_of_study\", \n",
    "    \"drinking_frequency\", \n",
    "    \"drinking_consumption_amount\", \n",
    "    \"drinking_frequency_six_servings\", \n",
    "    \"type_of_drink\",\n",
    "    \"drinking_occasion\", \n",
    "    \"attention_test\", \n",
    "    \"drinking_frequency_before_examination\", \n",
    "    \"gpa\", \n",
    "    \"activity_1\", \n",
    "    \"activity_2\", \n",
    "    \"academic_achievements\", \n",
    "    \"professional_examinations\", \n",
    "    \"nationality_extra\" # voided\n",
    "    # nationality\n",
    "]\n",
    "\n",
    "# fix nationality columns\n",
    "df[\"nationality\"] = df.nationality_current.combine_first(df.nationality_extra)\n",
    "df.loc[ df[\"nationality\"] == \"Malaysian 馬來西亞\", \"nationality\" ] = \"Malaysia\"\n",
    "df.loc[ df[\"nationality\"] == \"Philippine 菲律賓\", \"nationality\" ] = \"Philipine\"\n",
    "df.loc[ df[\"nationality\"] == \"Indonesian 印尼\", \"nationality\" ] = \"Indonesia\"\n",
    "df.drop(columns=[\"nationality_current\", \"nationality_extra\"], inplace=True)\n",
    "\n",
    "# filter based on valid response\n",
    "# df = df.loc[ df[\"attention_test\"] == \"Italian 義式\" ]\n",
    "df = df.loc[ df[\"gpa\"] > 1 ]\n",
    "df = df.loc[ (df.drinking_consumption_amount == 0) | ~(df.drinking_frequency == \"Never 從來不飲用\") ]\n",
    "\n",
    "# drop unnecessary columns\n",
    "df.drop(columns=[\"time\", \"attention_test\"], inplace=True)\n",
    "\n",
    "df.head()\n"
   ]
  },
  {
   "cell_type": "code",
   "execution_count": 3,
   "metadata": {},
   "outputs": [
    {
     "name": "stdout",
     "output_type": "stream",
     "text": [
      "Number of non drinker 21\n",
      "Number of drinker 122\n",
      "Number of light drinker 36\n",
      "Number of medium drinker 52\n",
      "Number of heavy drinker 32\n"
     ]
    }
   ],
   "source": [
    "df_non_drinker  = df.loc[ df[\"drinking_consumption_amount\"] == 0]\n",
    "df_drinker = df.loc[ ~(df[\"drinking_consumption_amount\"] == 0)]\n",
    "df_light_drinker  = df.loc[ (df[\"drinking_consumption_amount\"] <= DRINKING_CONSUMPTION_LIGHT) & (df[\"drinking_consumption_amount\"] > 0)]\n",
    "df_medium_drinker = df.loc[ (df[\"drinking_consumption_amount\"] <= DRINKING_CONSUMPTION_MEDIUM) & (df[\"drinking_consumption_amount\"] > DRINKING_CONSUMPTION_LIGHT) ]\n",
    "df_heavy_drinker  = df.loc[ (df[\"drinking_consumption_amount\"] <= DRINKING_CONSUMPTION_HEAVY) & (df[\"drinking_consumption_amount\"] > DRINKING_CONSUMPTION_MEDIUM) ]\n",
    "\n",
    "print(\"Number of non drinker\", len(df_non_drinker))\n",
    "print(\"Number of drinker\", len(df_drinker))\n",
    "print(\"Number of light drinker\", len(df_light_drinker))\n",
    "print(\"Number of medium drinker\", len(df_medium_drinker))\n",
    "print(\"Number of heavy drinker\", len(df_heavy_drinker))"
   ]
  },
  {
   "cell_type": "code",
   "execution_count": 4,
   "metadata": {},
   "outputs": [
    {
     "name": "stdout",
     "output_type": "stream",
     "text": [
      "                    gender   0\n",
      "0                Female 女性  12\n",
      "1                  Male 男性   8\n",
      "2  Prefer not to say 不方便透露   1\n",
      "\n",
      "                    gender   0\n",
      "0                Female 女性  53\n",
      "1                  Male 男性  67\n",
      "2  Prefer not to say 不方便透露   2\n"
     ]
    }
   ],
   "source": [
    "# general overview drinker vs non drinker\n",
    "\n",
    "# gender\n",
    "df_non_drinker_gender = df_non_drinker.groupby(\"gender\").size().reset_index()\n",
    "df_drinker_gender = df_drinker.groupby(\"gender\").size().reset_index()\n",
    "\n",
    "print(df_non_drinker_gender)\n",
    "print()\n",
    "print(df_drinker_gender)\n"
   ]
  },
  {
   "cell_type": "code",
   "execution_count": 5,
   "metadata": {},
   "outputs": [
    {
     "name": "stdout",
     "output_type": "stream",
     "text": [
      "                    gender   0\n",
      "0                Female 女性  12\n",
      "1                  Male 男性   8\n",
      "2  Prefer not to say 不方便透露   1\n",
      "\n",
      "                    gender   0\n",
      "0                Female 女性  53\n",
      "1                  Male 男性  67\n",
      "2  Prefer not to say 不方便透露   2\n"
     ]
    }
   ],
   "source": [
    "# year of study\n",
    "df_non_drinker_year_of_study = df_non_drinker.groupby(\"year_of_study\").size().reset_index()\n",
    "df_drinker_year_of_study = df_drinker.groupby(\"year_of_study\").size().reset_index()\n",
    "\n",
    "print(df_non_drinker_gender)\n",
    "print()\n",
    "print(df_drinker_gender)"
   ]
  },
  {
   "cell_type": "code",
   "execution_count": 6,
   "metadata": {},
   "outputs": [
    {
     "name": "stdout",
     "output_type": "stream",
     "text": [
      "  nationality   0\n",
      "0       China   4\n",
      "1   Hong Kong  12\n",
      "2   Indonesia   1\n",
      "3  Kazakhstan   1\n",
      "4   Sri Lanka   1\n",
      "5      Taiwan   1\n",
      "6    Thailand   1\n",
      "\n",
      "       nationality   0\n",
      "0            Burma   1\n",
      "1            China   7\n",
      "2        Hong Kong  41\n",
      "3            India   6\n",
      "4        Indonesia  38\n",
      "5       Kazakhstan   1\n",
      "6     Korea, South   3\n",
      "7         Malaysia   5\n",
      "8        Philipine   1\n",
      "9           Russia   1\n",
      "10          Taiwan  16\n",
      "11  United Kingdom   1\n",
      "12   United States   1\n"
     ]
    }
   ],
   "source": [
    "# nationality\n",
    "df_non_drinker_nationality = df_non_drinker.groupby(\"nationality\").size().reset_index()\n",
    "df_drinker_nationality = df_drinker.groupby(\"nationality\").size().reset_index()\n",
    "\n",
    "print(df_non_drinker_nationality)\n",
    "print()\n",
    "print(df_drinker_nationality)\n"
   ]
  },
  {
   "cell_type": "markdown",
   "metadata": {},
   "source": [
    "# Hypothesis Testing (Drinker vs. Non Drinker) t-Test\n",
    "Hypothesis testing using z value since sample size is assumed to be large and the level of significance will be 5%\n",
    "\n",
    "$H_0$: average gpa of drinker and non drinker are similar\n",
    "\n",
    "$H_1$: average gpa of drinker and non drinker are different\n",
    "\n",
    "since significance level is 5%, the z-score that is expected to satisfied the null hyphothesis should be $\\pm$ 1.96 (two-tailed test critical value), where the z-score can be calculated as follow:\n",
    "\n",
    "$$\n",
    "    Z_s = \\frac{X-\\bar{X}}{\\sqrt{\\frac{S_1^2}{n_1} + \\frac{S_2^2}{n_2}}}\n",
    "$$"
   ]
  },
  {
   "cell_type": "code",
   "execution_count": 7,
   "metadata": {},
   "outputs": [
    {
     "name": "stdout",
     "output_type": "stream",
     "text": [
      "1.5348683190108412\n"
     ]
    }
   ],
   "source": [
    "non_drinker_mean_gpa = df_non_drinker[\"gpa\"].replace(0, np.nan).dropna().mean()\n",
    "non_drinker_std_gpa = df_non_drinker[\"gpa\"].replace(0, np.nan).dropna().std()\n",
    "non_drinker_size = len(df_non_drinker[\"gpa\"].replace(0, np.nan).dropna())\n",
    "\n",
    "drinker_mean_gpa = df_drinker[\"gpa\"].replace(0, np.nan).dropna().mean()\n",
    "drinker_std_gpa = df_drinker[\"gpa\"].replace(0, np.nan).dropna().std()\n",
    "drinker_size = len(df_drinker[\"gpa\"].replace(0, np.nan).dropna())\n",
    "\n",
    "z_score_gpa_drink = (non_drinker_mean_gpa - drinker_mean_gpa) / (np.sqrt( non_drinker_std_gpa**2 / non_drinker_size + drinker_std_gpa**2 / drinker_size))\n",
    "print(z_score_gpa_drink)\n"
   ]
  },
  {
   "cell_type": "markdown",
   "metadata": {},
   "source": [
    "result of the z score is 1.541 which is in the range of rejection of null hypothesis. Therefore, we can conclude that we $\\bold{cannot}$ reject the null hypothesis"
   ]
  },
  {
   "cell_type": "code",
   "execution_count": 8,
   "metadata": {},
   "outputs": [
    {
     "name": "stdout",
     "output_type": "stream",
     "text": [
      "0.3893885984367683\n",
      "0.37353579850852814\n"
     ]
    }
   ],
   "source": [
    "z_score_academic_achievement = (df_non_drinker[\"academic_achievements\"].mean() - df_drinker[\"academic_achievements\"].mean()) / (np.sqrt( df_non_drinker[\"academic_achievements\"].std()**2 / len(df_non_drinker[\"academic_achievements\"]) + df_drinker[\"academic_achievements\"].std()**2 / len(df_drinker[\"academic_achievements\"])))\n",
    "z_score_professional_examinations = (df_non_drinker[\"professional_examinations\"].mean() - df_drinker[\"professional_examinations\"].mean()) / (np.sqrt( df_non_drinker[\"professional_examinations\"].std()**2 / len(df_non_drinker[\"professional_examinations\"]) + df_drinker[\"professional_examinations\"].std()**2 / len(df_drinker[\"professional_examinations\"])))\n",
    "print(z_score_academic_achievement)\n",
    "print(z_score_professional_examinations)"
   ]
  },
  {
   "cell_type": "markdown",
   "metadata": {},
   "source": [
    "result of z-score for both academic achievements and professional examinations are within the acceptance range for null hypothesis. Therefore we can conclude that there is no difference between drinkers and non drinkers."
   ]
  },
  {
   "cell_type": "markdown",
   "metadata": {},
   "source": [
    "# Hypothesis Testing (Amount of drinks vs. GPA)"
   ]
  },
  {
   "cell_type": "code",
   "execution_count": 9,
   "metadata": {},
   "outputs": [
    {
     "data": {
      "image/png": "[encoded data removed]",
      "text/plain": [
       "<Figure size 432x288 with 1 Axes>"
      ]
     },
     "metadata": {
      "needs_background": "light"
     },
     "output_type": "display_data"
    }
   ],
   "source": [
    "df_drink_amount_average = df_drinker.groupby(\"drinking_consumption_amount\").mean().reset_index()\n",
    "plt.scatter(df_drink_amount_average[\"drinking_consumption_amount\"], df_drink_amount_average[\"gpa\"])\n",
    "plt.show()\n"
   ]
  },
  {
   "cell_type": "code",
   "execution_count": 10,
   "metadata": {},
   "outputs": [
    {
     "data": {
      "image/png": "[encoded data removed]",
      "text/plain": [
       "<Figure size 432x288 with 1 Axes>"
      ]
     },
     "metadata": {
      "needs_background": "light"
     },
     "output_type": "display_data"
    }
   ],
   "source": [
    "plt.scatter(df_drink_amount_average[\"drinking_consumption_amount\"], df_drink_amount_average[\"academic_achievements\"])\n",
    "plt.show()"
   ]
  },
  {
   "cell_type": "code",
   "execution_count": 11,
   "metadata": {},
   "outputs": [
    {
     "data": {
      "image/png": "[encoded data removed]",
      "text/plain": [
       "<Figure size 432x288 with 1 Axes>"
      ]
     },
     "metadata": {
      "needs_background": "light"
     },
     "output_type": "display_data"
    }
   ],
   "source": [
    "plt.scatter(df_drink_amount_average[\"drinking_consumption_amount\"], df_drink_amount_average[\"professional_examinations\"])\n",
    "plt.show()"
   ]
  },
  {
   "cell_type": "markdown",
   "metadata": {},
   "source": [
    "# Quantifying categorical values"
   ]
  },
  {
   "cell_type": "code",
   "execution_count": 12,
   "metadata": {},
   "outputs": [
    {
     "name": "stderr",
     "output_type": "stream",
     "text": [
      "/opt/anaconda3/envs/gecc-fyp/lib/python3.8/site-packages/pandas/core/indexing.py:1817: SettingWithCopyWarning: \n",
      "A value is trying to be set on a copy of a slice from a DataFrame.\n",
      "Try using .loc[row_indexer,col_indexer] = value instead\n",
      "\n",
      "See the caveats in the documentation: https://pandas.pydata.org/pandas-docs/stable/user_guide/indexing.html#returning-a-view-versus-a-copy\n",
      "  self._setitem_single_column(loc, value, pi)\n"
     ]
    }
   ],
   "source": [
    "df_drinker_quantified = df_drinker\n",
    "\n",
    "df_drinker_quantified.loc[ df.year_of_study == \"4 or above 四年級以上\", \"year_of_study\" ] = 4.0\n",
    "\n",
    "df_drinker_quantified.loc[ df.drinking_frequency == \"Monthly or less 少於每月\", \"drinking_frequency\" ] = 1.0 / 16.0\n",
    "df_drinker_quantified.loc[ df.drinking_frequency == \"Monthly or less 少於一個月\", \"drinking_frequency\" ] = 1.0 / 16.0\n",
    "df_drinker_quantified.loc[ df.drinking_frequency == \"2-4 times a month 每月二至四次\", \"drinking_frequency\" ] = 3.0 / 16.0\n",
    "df_drinker_quantified.loc[ df.drinking_frequency == \"2-3 times a week 每週二至三次\", \"drinking_frequency\" ] = 10.0 / 16.0\n",
    "df_drinker_quantified.loc[ df.drinking_frequency == \"4 or more times a week 每週四次以上\", \"drinking_frequency\" ] = 16.0 / 16.0\n",
    "\n",
    "df_drinker_quantified.loc[ df.drinking_frequency_six_servings == \"Daily or almost daily 每天或幾乎每天\", \"drinking_frequency_six_servings\" ] = 30.0 / 30.0\n",
    "df_drinker_quantified.loc[ df.drinking_frequency_six_servings == \"Weekly 每週\", \"drinking_frequency_six_servings\" ] = 4.0 / 30.0\n",
    "df_drinker_quantified.loc[ df.drinking_frequency_six_servings == \"Monthly 每月\", \"drinking_frequency_six_servings\" ] = 1.0 / 30.0\n",
    "df_drinker_quantified.loc[ df.drinking_frequency_six_servings == \"Less than once per month 少於每月\", \"drinking_frequency_six_servings\" ] = .5 / 30.0\n",
    "df_drinker_quantified.loc[ df.drinking_frequency_six_servings == \"Less than once per month 少於一個月\", \"drinking_frequency_six_servings\" ] = .5 / 30.0\n",
    "df_drinker_quantified.loc[ df.drinking_frequency_six_servings == \"Never 從來不會\", \"drinking_frequency_six_servings\" ] = 0.0 / 30.0\n",
    "\n",
    "df_drinker_quantified.loc[ df.drinking_frequency_before_examination == \"Never (0%) 從來不會\", \"drinking_frequency_before_examination\" ] = 0.0 / 10.0\n",
    "df_drinker_quantified.loc[ df.drinking_frequency_before_examination == \"Occasionally (20%) 偶爾\", \"drinking_frequency_before_examination\" ] = 2.0 / 10.0\n",
    "df_drinker_quantified.loc[ df.drinking_frequency_before_examination == \"Sometimes (40%) 有時\", \"drinking_frequency_before_examination\" ] = 4.0 / 10.0\n",
    "df_drinker_quantified.loc[ df.drinking_frequency_before_examination == \"Often (60%) 經常\", \"drinking_frequency_before_examination\" ] = 6.0 / 10.0\n",
    "df_drinker_quantified.loc[ df.drinking_frequency_before_examination == \"Usually (80%) 通常\", \"drinking_frequency_before_examination\" ] = 8.0 / 10.0\n",
    "df_drinker_quantified.loc[ df.drinking_frequency_before_examination == \"Always (100%) 總是\", \"drinking_frequency_before_examination\" ] = 10.0 / 10.0\n",
    "\n",
    "df_drinker_quantified.loc[ df_drinker_quantified.activity_1 == \"Yes 有\", \"activity_1\" ] = 1.0\n",
    "df_drinker_quantified.loc[ df_drinker_quantified.activity_1 == \"No 沒有\", \"activity_1\" ] = 0\n",
    "\n",
    "df_drinker_quantified.loc[ df_drinker_quantified.activity_2 == \"Yes 有\", \"activity_2\" ] = 1.0\n",
    "df_drinker_quantified.loc[ df_drinker_quantified.activity_2 == \"No 沒有\", \"activity_2\" ] = 0\n",
    "\n",
    "quantified_columns = [\"year_of_study\", \"drinking_frequency\", \"drinking_consumption_amount\", \"drinking_frequency_six_servings\", \"gpa\", \"activity_1\", \"activity_2\", \"academic_achievements\", \"professional_examinations\"]\n",
    "\n",
    "df_drinker_quantified = df_drinker_quantified[quantified_columns]"
   ]
  },
  {
   "cell_type": "code",
   "execution_count": 13,
   "metadata": {},
   "outputs": [
    {
     "name": "stderr",
     "output_type": "stream",
     "text": [
      "/opt/anaconda3/envs/gecc-fyp/lib/python3.8/site-packages/pandas/core/generic.py:5516: SettingWithCopyWarning: \n",
      "A value is trying to be set on a copy of a slice from a DataFrame.\n",
      "Try using .loc[row_indexer,col_indexer] = value instead\n",
      "\n",
      "See the caveats in the documentation: https://pandas.pydata.org/pandas-docs/stable/user_guide/indexing.html#returning-a-view-versus-a-copy\n",
      "  self[name] = value\n"
     ]
    }
   ],
   "source": [
    "from sklearn.decomposition import PCA\n",
    "from sklearn import linear_model\n",
    "from sklearn.preprocessing import StandardScaler \n",
    "\n",
    "# X_scaler = StandardScaler()\n",
    "\n",
    "# # selected attribute\n",
    "# attribute = [\"year_of_study\", \"drinking_frequency\", \"drinking_consumption_amount\", \"drinking_frequency_six_servings\", \"gpa\"]\n",
    "# X_train_scaled_attribute = X_scaler.fit_transform(df_drinker_quantified[attribute]) \n",
    "# df_drinker_quantified[attribute] = X_train_scaled_attribute\n",
    "\n",
    "# x_att = df_drinker_quantified[attribute[:-1]]\n",
    "# y_att = df_drinker_quantified[attribute[-1]]\n",
    "\n",
    "# x_att_1 = np.array(x_att[attribute[0]])\n",
    "# x_att_2 = np.array(x_att[attribute[1]])\n",
    "# x_att_3 = np.array(x_att[attribute[2]])\n",
    "# x_att_4 = np.array(x_att[attribute[3]])\n",
    "\n",
    "# y_att_final = np.array(y_att)\n",
    "# n = len(y_att_final)\n",
    "\n",
    "# x_bias = np.ones((n, 1))\n",
    "\n",
    "# x_att_1_reshape = np.reshape(x_att_1, (n, 1))\n",
    "# x_att_2_reshape = np.reshape(x_att_2, (n, 1))\n",
    "# x_att_3_reshape = np.reshape(x_att_3, (n, 1))\n",
    "# x_att_4_reshape = np.reshape(x_att_4, (n, 1))\n",
    "\n",
    "# x_att_final = np.append(x_bias, x_att_1_reshape, axis=1)\n",
    "# x_att_final = np.append(x_att_final, x_att_2_reshape, axis=1)\n",
    "# x_att_final = np.append(x_att_final, x_att_3_reshape, axis=1)\n",
    "# x_prime = np.append(x_att_final, x_att_4_reshape, axis=1)\n",
    "\n",
    "# x_prime_transpose = np.transpose(x_prime)\n",
    "\n",
    "# theta = np.linalg.inv(x_prime_transpose.dot(x_prime)).dot(x_prime_transpose).dot(y_att_final)\n",
    "# print(\"Parameter theta calculated by normal equation:\", theta)\n",
    "\n",
    "'''\n",
    "pca_tested_label = [\"year_of_study\", \"drinking_frequency\", \"drinking_consumption_amount\", \"drinking_frequency_six_servings\", \"gpa\"]\n",
    "\n",
    "pca = PCA()\n",
    "pca.fit(df_drinker_quantified[pca_tested_label])\n",
    "print(pca_tested_label)\n",
    "print(pca.explained_variance_ratio_ * 100)\n",
    "'''\n",
    "\n",
    "# lin_regr = linear_model.LinearRegression()\n",
    "# lin_regr.fit(df_drinker_quantified.drop([\"gpa\", \"activity_1\", \"activity_2\", \"academic_achievements\", \"professional_examinations\"], axis=1), df_drinker_quantified[\"gpa\"])\n",
    "# print(lin_regr.coef_)\n",
    "\n",
    "# fig, axs = plt.subplots(2)\n",
    "# axs[0].plot([\"year_of_study\", \"drinking_frequency\", \"drinking_consumption_amount\", \"drinking_frequency_six_servings\"], pca.explained_variance_ratio_)\n",
    "# axs[0].xticks(rotation=45, ha=\"right\")\n",
    "# axs[1].plot([\"year_of_study\", \"drinking_frequency\", \"drinking_consumption_amount\", \"drinking_frequency_six_servings\"], lin_regr.coef_)\n",
    "# axs[1].xticks(rotation=45, ha=\"right\")\n",
    "\n",
    "'''\n",
    "plt.plot([\"year_of_study\", \"drinking_frequency\", \"drinking_consumption_amount\", \"drinking_frequency_six_servings\", \"gpa\"], pca.explained_variance_ratio_)\n",
    "plt.title(\"Factor of attribute affecting GPA\")\n",
    "plt.ylabel(\"Factor\")\n",
    "plt.xlabel(\"Attribute\")\n",
    "plt.xticks(rotation=45, ha=\"right\")\n",
    "\n",
    "plt.show()\n",
    "'''\n",
    "df_drinker_quantified.year_of_study = pd.to_numeric(df_drinker_quantified.year_of_study)\n",
    "df_drinker_quantified.drinking_frequency = pd.to_numeric(df_drinker_quantified.drinking_frequency)\n",
    "df_drinker_quantified.drinking_frequency_six_servings = pd.to_numeric(df_drinker_quantified.drinking_frequency_six_servings)\n",
    "df_drinker_quantified.activity_1 = pd.to_numeric(df_drinker_quantified.activity_1)\n",
    "df_drinker_quantified.activity_2 = pd.to_numeric(df_drinker_quantified.activity_2)\n",
    "\n",
    "attribute_correlation = df_drinker_quantified.corr(method='pearson')\n"
   ]
  },
  {
   "cell_type": "code",
   "execution_count": 14,
   "metadata": {},
   "outputs": [
    {
     "data": {
      "text/plain": [
       "year_of_study                     -0.014218\n",
       "drinking_frequency                -0.047631\n",
       "drinking_consumption_amount       -0.038939\n",
       "drinking_frequency_six_servings   -0.033924\n",
       "gpa                                1.000000\n",
       "activity_1                         0.219245\n",
       "activity_2                         0.115758\n",
       "academic_achievements              0.516540\n",
       "professional_examinations         -0.093986\n",
       "Name: gpa, dtype: float64"
      ]
     },
     "execution_count": 14,
     "metadata": {},
     "output_type": "execute_result"
    }
   ],
   "source": [
    "attribute_correlation.gpa"
   ]
  },
  {
   "cell_type": "code",
   "execution_count": 15,
   "metadata": {},
   "outputs": [
    {
     "name": "stdout",
     "output_type": "stream",
     "text": [
      "3.409902936620084\n",
      "[-0.00264402 -0.06765074 -0.00195513  0.06069648]\n"
     ]
    },
    {
     "data": {
      "image/png": "[encoded data removed]",
      "text/plain": [
       "<Figure size 2880x576 with 4 Axes>"
      ]
     },
     "metadata": {
      "needs_background": "light"
     },
     "output_type": "display_data"
    }
   ],
   "source": [
    "df_drinker_quantified_normalized = (df_drinker_quantified - df_drinker_quantified.min()) / (df_drinker_quantified.max() - df_drinker_quantified.min())\n",
    "\n",
    "x_columns = [\"year_of_study\", \"drinking_frequency\", \"drinking_consumption_amount\", \"drinking_frequency_six_servings\"]\n",
    "\n",
    "# gpa\n",
    "linear_regression_gpa = linear_model.LinearRegression()\n",
    "linear_regression_gpa.fit(df_drinker_quantified[x_columns], df_drinker_quantified[\"gpa\"])\n",
    "print(linear_regression_gpa.intercept_)\n",
    "print(linear_regression_gpa.coef_)\n",
    "\n",
    "plt.figure(figsize=(40, 8))\n",
    "\n",
    "gpa_group_by_year = df_drinker_quantified[[\"year_of_study\", \"gpa\"]].groupby(\"year_of_study\").mean().reset_index()\n",
    "plt_year = plt.subplot(1, 4, 1) \n",
    "plt_year = plt.scatter(gpa_group_by_year[\"year_of_study\"], gpa_group_by_year[\"gpa\"])\n",
    "plt.title(\"Year of Study\")\n",
    "\n",
    "# freq\n",
    "gpa_group_by_freq = df_drinker_quantified[[\"drinking_frequency\", \"gpa\"]].groupby(\"drinking_frequency\").mean().reset_index()\n",
    "plt_freq = plt.subplot(1, 4, 2) \n",
    "plt_freq = plt.scatter(gpa_group_by_freq[\"drinking_frequency\"], gpa_group_by_freq[\"gpa\"])\n",
    "plt.title(\"Drinking Ffrequency\")\n",
    "\n",
    "# amount\n",
    "gpa_group_by_amount = df_drinker_quantified[[\"drinking_consumption_amount\", \"gpa\"]].groupby(\"drinking_consumption_amount\").mean().reset_index()\n",
    "plt_amount = plt.subplot(1, 4, 3) \n",
    "plt_amount = plt.scatter(gpa_group_by_amount[\"drinking_consumption_amount\"], gpa_group_by_amount[\"gpa\"])\n",
    "plt.title(\"Drinking Amount\")\n",
    "\n",
    "\n",
    "# drinking_frequency_six_servings\n",
    "gpa_group_by_six_servings = df_drinker_quantified[[\"drinking_frequency_six_servings\", \"gpa\"]].groupby(\"drinking_frequency_six_servings\").mean().reset_index()\n",
    "plt_six_servings = plt.subplot(1, 4, 4) \n",
    "plt_six_servings = plt.scatter(gpa_group_by_six_servings[\"drinking_frequency_six_servings\"], gpa_group_by_six_servings[\"gpa\"])\n",
    "plt.title(\"Drinking Six Servings\")\n",
    "\n",
    "plt.show()"
   ]
  },
  {
   "cell_type": "code",
   "execution_count": 16,
   "metadata": {},
   "outputs": [
    {
     "data": {
      "image/png": "[encoded data removed]",
      "text/plain": [
       "<Figure size 432x288 with 1 Axes>"
      ]
     },
     "metadata": {
      "needs_background": "light"
     },
     "output_type": "display_data"
    }
   ],
   "source": [
    "df_drinking_frequency_average = df_drinker_quantified[[\"drinking_frequency\", \"gpa\"]].groupby(\"drinking_frequency\").mean().reset_index()\n",
    "plt.scatter(df_drinking_frequency_average[\"drinking_frequency\"], df_drinking_frequency_average[\"gpa\"])\n",
    "plt.show()"
   ]
  },
  {
   "cell_type": "code",
   "execution_count": 17,
   "metadata": {},
   "outputs": [
    {
     "data": {
      "image/png": "[encoded data removed]",
      "text/plain": [
       "<Figure size 432x288 with 1 Axes>"
      ]
     },
     "metadata": {
      "needs_background": "light"
     },
     "output_type": "display_data"
    }
   ],
   "source": [
    "df_frequency = df_drinker_quantified[[\"drinking_frequency\", \"academic_achievements\"]].groupby(\"drinking_frequency\").mean().reset_index()\n",
    "plt.scatter(df_frequency[\"drinking_frequency\"], df_frequency[\"academic_achievements\"])\n",
    "plt.show()"
   ]
  },
  {
   "cell_type": "code",
   "execution_count": 18,
   "metadata": {},
   "outputs": [
    {
     "name": "stdout",
     "output_type": "stream",
     "text": [
      "3.489666666666667\n",
      "3.3825655737704916\n"
     ]
    }
   ],
   "source": [
    "print(df_non_drinker[\"gpa\"].replace(0, np.nan).mean())\n",
    "print(df_drinker[\"gpa\"].replace(0, np.nan).mean())"
   ]
  },
  {
   "cell_type": "code",
   "execution_count": null,
   "metadata": {},
   "outputs": [],
   "source": []
  }
 ],
 "metadata": {
  "kernelspec": {
   "display_name": "Python 3 (ipykernel)",
   "language": "python",
   "name": "python3"
  },
  "language_info": {
   "codemirror_mode": {
    "name": "ipython",
    "version": 3
   },
   "file_extension": ".py",
   "mimetype": "text/x-python",
   "name": "python",
   "nbconvert_exporter": "python",
   "pygments_lexer": "ipython3",
   "version": "3.8.11"
  },
  "orig_nbformat": 4
 },
 "nbformat": 4,
 "nbformat_minor": 2
}
