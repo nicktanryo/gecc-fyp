{
 "cells": [
  {
   "cell_type": "code",
   "execution_count": 21,
   "metadata": {},
   "outputs": [],
   "source": [
    "# import libraries\n",
    "import numpy as np\n",
    "import pandas as pd\n",
    "import matplotlib.pyplot as plt\n",
    "\n",
    "# analysis parameters\n",
    "data_file = \"GECC\\ FYP\\ Survey.csv\"\n",
    "\n",
    "DRINKING_CONSUMPTION_LIGHT = 1\n",
    "DRINKING_CONSUMPTION_MEDIUM = 3\n",
    "DRINKING_CONSUMPTION_HEAVY = 15"
   ]
  },
  {
   "cell_type": "code",
   "execution_count": 22,
   "metadata": {},
   "outputs": [
    {
     "name": "stderr",
     "output_type": "stream",
     "text": [
      "/opt/anaconda3/envs/gecc-fyp/lib/python3.8/site-packages/IPython/core/interactiveshell.py:3444: FutureWarning: The error_bad_lines argument has been deprecated and will be removed in a future version.\n",
      "\n",
      "\n",
      "  exec(code_obj, self.user_global_ns, self.user_ns)\n"
     ]
    },
    {
     "ename": "FileNotFoundError",
     "evalue": "[Errno 2] No such file or directory: 'GECC FYP Survey.csv'",
     "output_type": "error",
     "traceback": [
      "\u001b[0;31m---------------------------------------------------------------------------\u001b[0m",
      "\u001b[0;31mFileNotFoundError\u001b[0m                         Traceback (most recent call last)",
      "\u001b[0;32m/var/folders/dk/gpqydvh14v70cwykwdnw8z3c0000gn/T/ipykernel_1854/2185217650.py\u001b[0m in \u001b[0;36m<module>\u001b[0;34m\u001b[0m\n\u001b[1;32m      2\u001b[0m \u001b[0;34m\u001b[0m\u001b[0m\n\u001b[1;32m      3\u001b[0m \u001b[0;31m# read file\u001b[0m\u001b[0;34m\u001b[0m\u001b[0;34m\u001b[0m\u001b[0;34m\u001b[0m\u001b[0m\n\u001b[0;32m----> 4\u001b[0;31m \u001b[0mdf\u001b[0m \u001b[0;34m=\u001b[0m \u001b[0mpd\u001b[0m\u001b[0;34m.\u001b[0m\u001b[0mread_csv\u001b[0m\u001b[0;34m(\u001b[0m\u001b[0mdata_file\u001b[0m\u001b[0;34m,\u001b[0m \u001b[0merror_bad_lines\u001b[0m\u001b[0;34m=\u001b[0m\u001b[0;32mFalse\u001b[0m\u001b[0;34m)\u001b[0m\u001b[0;34m\u001b[0m\u001b[0;34m\u001b[0m\u001b[0m\n\u001b[0m\u001b[1;32m      5\u001b[0m \u001b[0;34m\u001b[0m\u001b[0m\n\u001b[1;32m      6\u001b[0m '''\n",
      "\u001b[0;32m/opt/anaconda3/envs/gecc-fyp/lib/python3.8/site-packages/pandas/util/_decorators.py\u001b[0m in \u001b[0;36mwrapper\u001b[0;34m(*args, **kwargs)\u001b[0m\n\u001b[1;32m    309\u001b[0m                     \u001b[0mstacklevel\u001b[0m\u001b[0;34m=\u001b[0m\u001b[0mstacklevel\u001b[0m\u001b[0;34m,\u001b[0m\u001b[0;34m\u001b[0m\u001b[0;34m\u001b[0m\u001b[0m\n\u001b[1;32m    310\u001b[0m                 )\n\u001b[0;32m--> 311\u001b[0;31m             \u001b[0;32mreturn\u001b[0m \u001b[0mfunc\u001b[0m\u001b[0;34m(\u001b[0m\u001b[0;34m*\u001b[0m\u001b[0margs\u001b[0m\u001b[0;34m,\u001b[0m \u001b[0;34m**\u001b[0m\u001b[0mkwargs\u001b[0m\u001b[0;34m)\u001b[0m\u001b[0;34m\u001b[0m\u001b[0;34m\u001b[0m\u001b[0m\n\u001b[0m\u001b[1;32m    312\u001b[0m \u001b[0;34m\u001b[0m\u001b[0m\n\u001b[1;32m    313\u001b[0m         \u001b[0;32mreturn\u001b[0m \u001b[0mwrapper\u001b[0m\u001b[0;34m\u001b[0m\u001b[0;34m\u001b[0m\u001b[0m\n",
      "\u001b[0;32m/opt/anaconda3/envs/gecc-fyp/lib/python3.8/site-packages/pandas/io/parsers/readers.py\u001b[0m in \u001b[0;36mread_csv\u001b[0;34m(filepath_or_buffer, sep, delimiter, header, names, index_col, usecols, squeeze, prefix, mangle_dupe_cols, dtype, engine, converters, true_values, false_values, skipinitialspace, skiprows, skipfooter, nrows, na_values, keep_default_na, na_filter, verbose, skip_blank_lines, parse_dates, infer_datetime_format, keep_date_col, date_parser, dayfirst, cache_dates, iterator, chunksize, compression, thousands, decimal, lineterminator, quotechar, quoting, doublequote, escapechar, comment, encoding, encoding_errors, dialect, error_bad_lines, warn_bad_lines, on_bad_lines, delim_whitespace, low_memory, memory_map, float_precision, storage_options)\u001b[0m\n\u001b[1;32m    584\u001b[0m     \u001b[0mkwds\u001b[0m\u001b[0;34m.\u001b[0m\u001b[0mupdate\u001b[0m\u001b[0;34m(\u001b[0m\u001b[0mkwds_defaults\u001b[0m\u001b[0;34m)\u001b[0m\u001b[0;34m\u001b[0m\u001b[0;34m\u001b[0m\u001b[0m\n\u001b[1;32m    585\u001b[0m \u001b[0;34m\u001b[0m\u001b[0m\n\u001b[0;32m--> 586\u001b[0;31m     \u001b[0;32mreturn\u001b[0m \u001b[0m_read\u001b[0m\u001b[0;34m(\u001b[0m\u001b[0mfilepath_or_buffer\u001b[0m\u001b[0;34m,\u001b[0m \u001b[0mkwds\u001b[0m\u001b[0;34m)\u001b[0m\u001b[0;34m\u001b[0m\u001b[0;34m\u001b[0m\u001b[0m\n\u001b[0m\u001b[1;32m    587\u001b[0m \u001b[0;34m\u001b[0m\u001b[0m\n\u001b[1;32m    588\u001b[0m \u001b[0;34m\u001b[0m\u001b[0m\n",
      "\u001b[0;32m/opt/anaconda3/envs/gecc-fyp/lib/python3.8/site-packages/pandas/io/parsers/readers.py\u001b[0m in \u001b[0;36m_read\u001b[0;34m(filepath_or_buffer, kwds)\u001b[0m\n\u001b[1;32m    480\u001b[0m \u001b[0;34m\u001b[0m\u001b[0m\n\u001b[1;32m    481\u001b[0m     \u001b[0;31m# Create the parser.\u001b[0m\u001b[0;34m\u001b[0m\u001b[0;34m\u001b[0m\u001b[0;34m\u001b[0m\u001b[0m\n\u001b[0;32m--> 482\u001b[0;31m     \u001b[0mparser\u001b[0m \u001b[0;34m=\u001b[0m \u001b[0mTextFileReader\u001b[0m\u001b[0;34m(\u001b[0m\u001b[0mfilepath_or_buffer\u001b[0m\u001b[0;34m,\u001b[0m \u001b[0;34m**\u001b[0m\u001b[0mkwds\u001b[0m\u001b[0;34m)\u001b[0m\u001b[0;34m\u001b[0m\u001b[0;34m\u001b[0m\u001b[0m\n\u001b[0m\u001b[1;32m    483\u001b[0m \u001b[0;34m\u001b[0m\u001b[0m\n\u001b[1;32m    484\u001b[0m     \u001b[0;32mif\u001b[0m \u001b[0mchunksize\u001b[0m \u001b[0;32mor\u001b[0m \u001b[0miterator\u001b[0m\u001b[0;34m:\u001b[0m\u001b[0;34m\u001b[0m\u001b[0;34m\u001b[0m\u001b[0m\n",
      "\u001b[0;32m/opt/anaconda3/envs/gecc-fyp/lib/python3.8/site-packages/pandas/io/parsers/readers.py\u001b[0m in \u001b[0;36m__init__\u001b[0;34m(self, f, engine, **kwds)\u001b[0m\n\u001b[1;32m    809\u001b[0m             \u001b[0mself\u001b[0m\u001b[0;34m.\u001b[0m\u001b[0moptions\u001b[0m\u001b[0;34m[\u001b[0m\u001b[0;34m\"has_index_names\"\u001b[0m\u001b[0;34m]\u001b[0m \u001b[0;34m=\u001b[0m \u001b[0mkwds\u001b[0m\u001b[0;34m[\u001b[0m\u001b[0;34m\"has_index_names\"\u001b[0m\u001b[0;34m]\u001b[0m\u001b[0;34m\u001b[0m\u001b[0;34m\u001b[0m\u001b[0m\n\u001b[1;32m    810\u001b[0m \u001b[0;34m\u001b[0m\u001b[0m\n\u001b[0;32m--> 811\u001b[0;31m         \u001b[0mself\u001b[0m\u001b[0;34m.\u001b[0m\u001b[0m_engine\u001b[0m \u001b[0;34m=\u001b[0m \u001b[0mself\u001b[0m\u001b[0;34m.\u001b[0m\u001b[0m_make_engine\u001b[0m\u001b[0;34m(\u001b[0m\u001b[0mself\u001b[0m\u001b[0;34m.\u001b[0m\u001b[0mengine\u001b[0m\u001b[0;34m)\u001b[0m\u001b[0;34m\u001b[0m\u001b[0;34m\u001b[0m\u001b[0m\n\u001b[0m\u001b[1;32m    812\u001b[0m \u001b[0;34m\u001b[0m\u001b[0m\n\u001b[1;32m    813\u001b[0m     \u001b[0;32mdef\u001b[0m \u001b[0mclose\u001b[0m\u001b[0;34m(\u001b[0m\u001b[0mself\u001b[0m\u001b[0;34m)\u001b[0m\u001b[0;34m:\u001b[0m\u001b[0;34m\u001b[0m\u001b[0;34m\u001b[0m\u001b[0m\n",
      "\u001b[0;32m/opt/anaconda3/envs/gecc-fyp/lib/python3.8/site-packages/pandas/io/parsers/readers.py\u001b[0m in \u001b[0;36m_make_engine\u001b[0;34m(self, engine)\u001b[0m\n\u001b[1;32m   1038\u001b[0m             )\n\u001b[1;32m   1039\u001b[0m         \u001b[0;31m# error: Too many arguments for \"ParserBase\"\u001b[0m\u001b[0;34m\u001b[0m\u001b[0;34m\u001b[0m\u001b[0;34m\u001b[0m\u001b[0m\n\u001b[0;32m-> 1040\u001b[0;31m         \u001b[0;32mreturn\u001b[0m \u001b[0mmapping\u001b[0m\u001b[0;34m[\u001b[0m\u001b[0mengine\u001b[0m\u001b[0;34m]\u001b[0m\u001b[0;34m(\u001b[0m\u001b[0mself\u001b[0m\u001b[0;34m.\u001b[0m\u001b[0mf\u001b[0m\u001b[0;34m,\u001b[0m \u001b[0;34m**\u001b[0m\u001b[0mself\u001b[0m\u001b[0;34m.\u001b[0m\u001b[0moptions\u001b[0m\u001b[0;34m)\u001b[0m  \u001b[0;31m# type: ignore[call-arg]\u001b[0m\u001b[0;34m\u001b[0m\u001b[0;34m\u001b[0m\u001b[0m\n\u001b[0m\u001b[1;32m   1041\u001b[0m \u001b[0;34m\u001b[0m\u001b[0m\n\u001b[1;32m   1042\u001b[0m     \u001b[0;32mdef\u001b[0m \u001b[0m_failover_to_python\u001b[0m\u001b[0;34m(\u001b[0m\u001b[0mself\u001b[0m\u001b[0;34m)\u001b[0m\u001b[0;34m:\u001b[0m\u001b[0;34m\u001b[0m\u001b[0;34m\u001b[0m\u001b[0m\n",
      "\u001b[0;32m/opt/anaconda3/envs/gecc-fyp/lib/python3.8/site-packages/pandas/io/parsers/c_parser_wrapper.py\u001b[0m in \u001b[0;36m__init__\u001b[0;34m(self, src, **kwds)\u001b[0m\n\u001b[1;32m     49\u001b[0m \u001b[0;34m\u001b[0m\u001b[0m\n\u001b[1;32m     50\u001b[0m         \u001b[0;31m# open handles\u001b[0m\u001b[0;34m\u001b[0m\u001b[0;34m\u001b[0m\u001b[0;34m\u001b[0m\u001b[0m\n\u001b[0;32m---> 51\u001b[0;31m         \u001b[0mself\u001b[0m\u001b[0;34m.\u001b[0m\u001b[0m_open_handles\u001b[0m\u001b[0;34m(\u001b[0m\u001b[0msrc\u001b[0m\u001b[0;34m,\u001b[0m \u001b[0mkwds\u001b[0m\u001b[0;34m)\u001b[0m\u001b[0;34m\u001b[0m\u001b[0;34m\u001b[0m\u001b[0m\n\u001b[0m\u001b[1;32m     52\u001b[0m         \u001b[0;32massert\u001b[0m \u001b[0mself\u001b[0m\u001b[0;34m.\u001b[0m\u001b[0mhandles\u001b[0m \u001b[0;32mis\u001b[0m \u001b[0;32mnot\u001b[0m \u001b[0;32mNone\u001b[0m\u001b[0;34m\u001b[0m\u001b[0;34m\u001b[0m\u001b[0m\n\u001b[1;32m     53\u001b[0m \u001b[0;34m\u001b[0m\u001b[0m\n",
      "\u001b[0;32m/opt/anaconda3/envs/gecc-fyp/lib/python3.8/site-packages/pandas/io/parsers/base_parser.py\u001b[0m in \u001b[0;36m_open_handles\u001b[0;34m(self, src, kwds)\u001b[0m\n\u001b[1;32m    220\u001b[0m         \u001b[0mLet\u001b[0m \u001b[0mthe\u001b[0m \u001b[0mreaders\u001b[0m \u001b[0mopen\u001b[0m \u001b[0mIOHandles\u001b[0m \u001b[0mafter\u001b[0m \u001b[0mthey\u001b[0m \u001b[0mare\u001b[0m \u001b[0mdone\u001b[0m \u001b[0;32mwith\u001b[0m \u001b[0mtheir\u001b[0m \u001b[0mpotential\u001b[0m \u001b[0mraises\u001b[0m\u001b[0;34m.\u001b[0m\u001b[0;34m\u001b[0m\u001b[0;34m\u001b[0m\u001b[0m\n\u001b[1;32m    221\u001b[0m         \"\"\"\n\u001b[0;32m--> 222\u001b[0;31m         self.handles = get_handle(\n\u001b[0m\u001b[1;32m    223\u001b[0m             \u001b[0msrc\u001b[0m\u001b[0;34m,\u001b[0m\u001b[0;34m\u001b[0m\u001b[0;34m\u001b[0m\u001b[0m\n\u001b[1;32m    224\u001b[0m             \u001b[0;34m\"r\"\u001b[0m\u001b[0;34m,\u001b[0m\u001b[0;34m\u001b[0m\u001b[0;34m\u001b[0m\u001b[0m\n",
      "\u001b[0;32m/opt/anaconda3/envs/gecc-fyp/lib/python3.8/site-packages/pandas/io/common.py\u001b[0m in \u001b[0;36mget_handle\u001b[0;34m(path_or_buf, mode, encoding, compression, memory_map, is_text, errors, storage_options)\u001b[0m\n\u001b[1;32m    700\u001b[0m         \u001b[0;32mif\u001b[0m \u001b[0mioargs\u001b[0m\u001b[0;34m.\u001b[0m\u001b[0mencoding\u001b[0m \u001b[0;32mand\u001b[0m \u001b[0;34m\"b\"\u001b[0m \u001b[0;32mnot\u001b[0m \u001b[0;32min\u001b[0m \u001b[0mioargs\u001b[0m\u001b[0;34m.\u001b[0m\u001b[0mmode\u001b[0m\u001b[0;34m:\u001b[0m\u001b[0;34m\u001b[0m\u001b[0;34m\u001b[0m\u001b[0m\n\u001b[1;32m    701\u001b[0m             \u001b[0;31m# Encoding\u001b[0m\u001b[0;34m\u001b[0m\u001b[0;34m\u001b[0m\u001b[0;34m\u001b[0m\u001b[0m\n\u001b[0;32m--> 702\u001b[0;31m             handle = open(\n\u001b[0m\u001b[1;32m    703\u001b[0m                 \u001b[0mhandle\u001b[0m\u001b[0;34m,\u001b[0m\u001b[0;34m\u001b[0m\u001b[0;34m\u001b[0m\u001b[0m\n\u001b[1;32m    704\u001b[0m                 \u001b[0mioargs\u001b[0m\u001b[0;34m.\u001b[0m\u001b[0mmode\u001b[0m\u001b[0;34m,\u001b[0m\u001b[0;34m\u001b[0m\u001b[0;34m\u001b[0m\u001b[0m\n",
      "\u001b[0;31mFileNotFoundError\u001b[0m: [Errno 2] No such file or directory: 'GECC FYP Survey.csv'"
     ]
    }
   ],
   "source": [
    "# setup dataframe\n",
    "\n",
    "# read file\n",
    "df = pd.read_csv(data_file, error_bad_lines=False)\n",
    "\n",
    "'''\n",
    "    rename columns to readable format\n",
    "    activity_1 = join for student club / organization / student union\n",
    "    activity_2 = exco for student club / organization / student union\n",
    "'''\n",
    "df.columns = [\n",
    "    \"time\", \n",
    "    \"gender\", \n",
    "    \"age\", \n",
    "    \"local_or_non_local\", \n",
    "    \"nationality_current\", # voided\n",
    "    \"university\", \n",
    "    \"current_study\", \n",
    "    \"year_of_study\", \n",
    "    \"drinking_frequency\", \n",
    "    \"drinking_consumption_amount\", \n",
    "    \"drinking_frequency_six_servings\", \n",
    "    \"type_of_drink\",\n",
    "    \"drinking_occasion\", \n",
    "    \"attention_test\", \n",
    "    \"drinking_frequency_before_examination\", \n",
    "    \"gpa\", \n",
    "    \"activity_1\", \n",
    "    \"activity_2\", \n",
    "    \"academic_achievements\", \n",
    "    \"professional_examinations\", \n",
    "    \"nationality_extra\" # voided\n",
    "    # nationality\n",
    "]\n",
    "\n",
    "# fix nationality columns\n",
    "df[\"nationality\"] = df.nationality_current.combine_first(df.nationality_extra)\n",
    "df.loc[ df[\"nationality\"] == \"Malaysian 馬來西亞\", \"nationality\" ] = \"Malaysia\"\n",
    "df.loc[ df[\"nationality\"] == \"Philippine 菲律賓\", \"nationality\" ] = \"Philipine\"\n",
    "df.loc[ df[\"nationality\"] == \"Indonesian 印尼\", \"nationality\" ] = \"Indonesia\"\n",
    "df.drop(columns=[\"nationality_current\", \"nationality_extra\"], inplace=True)\n",
    "\n",
    "# filter based on valid response\n",
    "df = df.loc[ df[\"attention_test\"] == \"Italian 義式\" ]\n",
    "# df = df.loc[ df[\"gpa\"] > 1 ]\n",
    "df = df.loc[ (df.drinking_consumption_amount == 0) | ~(df.drinking_frequency == \"Never 從來不飲用\") ]\n",
    "df = df.loc[ ~(df[\"university\"] == \"UCL\") ]\n",
    "\n",
    "# drop unnecessary columns\n",
    "df.drop(columns=[\"time\", \"attention_test\"], inplace=True)\n",
    "\n",
    "df.head()\n"
   ]
  },
  {
   "cell_type": "code",
   "execution_count": 3,
   "metadata": {},
   "outputs": [
    {
     "name": "stdout",
     "output_type": "stream",
     "text": [
      "Number of non drinker 30\n",
      "Number of drinker 119\n",
      "Number of light drinker 30\n",
      "Number of medium drinker 46\n",
      "Number of heavy drinker 43\n"
     ]
    }
   ],
   "source": [
    "df_non_drinker  = df.loc[ df[\"drinking_consumption_amount\"] == 0]\n",
    "df_drinker = df.loc[ ~(df[\"drinking_consumption_amount\"] == 0)]\n",
    "df_light_drinker  = df.loc[ (df[\"drinking_consumption_amount\"] <= DRINKING_CONSUMPTION_LIGHT) & (df[\"drinking_consumption_amount\"] > 0)]\n",
    "df_medium_drinker = df.loc[ (df[\"drinking_consumption_amount\"] <= DRINKING_CONSUMPTION_MEDIUM) & (df[\"drinking_consumption_amount\"] > DRINKING_CONSUMPTION_LIGHT) ]\n",
    "df_heavy_drinker  = df.loc[ (df[\"drinking_consumption_amount\"] <= DRINKING_CONSUMPTION_HEAVY) & (df[\"drinking_consumption_amount\"] > DRINKING_CONSUMPTION_MEDIUM) ]\n",
    "\n",
    "print(\"Number of non drinker\", len(df_non_drinker))\n",
    "print(\"Number of drinker\", len(df_drinker))\n",
    "print(\"Number of light drinker\", len(df_light_drinker))\n",
    "print(\"Number of medium drinker\", len(df_medium_drinker))\n",
    "print(\"Number of heavy drinker\", len(df_heavy_drinker))"
   ]
  },
  {
   "cell_type": "code",
   "execution_count": 4,
   "metadata": {},
   "outputs": [
    {
     "name": "stdout",
     "output_type": "stream",
     "text": [
      "      gender   0\n",
      "0  Female 女性  18\n",
      "1    Male 男性  12\n",
      "\n",
      "                    gender   0\n",
      "0                Female 女性  56\n",
      "1                  Male 男性  60\n",
      "2  Prefer not to say 不方便透露   3\n"
     ]
    }
   ],
   "source": [
    "# general overview drinker vs non drinker\n",
    "\n",
    "# gender\n",
    "df_non_drinker_gender = df_non_drinker.groupby(\"gender\").size().reset_index()\n",
    "df_drinker_gender = df_drinker.groupby(\"gender\").size().reset_index()\n",
    "\n",
    "print(df_non_drinker_gender)\n",
    "print()\n",
    "print(df_drinker_gender)\n"
   ]
  },
  {
   "cell_type": "code",
   "execution_count": 5,
   "metadata": {},
   "outputs": [
    {
     "name": "stdout",
     "output_type": "stream",
     "text": [
      "      gender   0\n",
      "0  Female 女性  18\n",
      "1    Male 男性  12\n",
      "\n",
      "                    gender   0\n",
      "0                Female 女性  56\n",
      "1                  Male 男性  60\n",
      "2  Prefer not to say 不方便透露   3\n"
     ]
    }
   ],
   "source": [
    "# year of study\n",
    "df_non_drinker_year_of_study = df_non_drinker.groupby(\"year_of_study\").size().reset_index()\n",
    "df_drinker_year_of_study = df_drinker.groupby(\"year_of_study\").size().reset_index()\n",
    "\n",
    "print(df_non_drinker_gender)\n",
    "print()\n",
    "print(df_drinker_gender)"
   ]
  },
  {
   "cell_type": "code",
   "execution_count": 6,
   "metadata": {},
   "outputs": [
    {
     "name": "stdout",
     "output_type": "stream",
     "text": [
      "  nationality   0\n",
      "0       China   4\n",
      "1   Hong Kong  15\n",
      "2       India   3\n",
      "3   Indonesia   2\n",
      "4  Kazakhstan   1\n",
      "5      Taiwan   1\n",
      "6    Thailand   4\n",
      "\n",
      "      nationality   0\n",
      "0           China   6\n",
      "1       Hong Kong  49\n",
      "2           India   3\n",
      "3       Indonesia  31\n",
      "4      Kazakhstan   1\n",
      "5    Korea, South   9\n",
      "6        Malaysia   2\n",
      "7       Philipine   1\n",
      "8          Russia   1\n",
      "9          Taiwan  14\n",
      "10  United States   2\n"
     ]
    }
   ],
   "source": [
    "# nationality\n",
    "df_non_drinker_nationality = df_non_drinker.groupby(\"nationality\").size().reset_index()\n",
    "df_drinker_nationality = df_drinker.groupby(\"nationality\").size().reset_index()\n",
    "\n",
    "print(df_non_drinker_nationality)\n",
    "print()\n",
    "print(df_drinker_nationality)\n"
   ]
  },
  {
   "cell_type": "markdown",
   "metadata": {},
   "source": [
    "# Hypothesis Testing (Drinker vs. Non Drinker) t-Test\n",
    "Hypothesis testing using z value since sample size is assumed to be large and the level of significance will be 5%\n",
    "\n",
    "$H_0$: average gpa of drinker and non drinker are similar\n",
    "\n",
    "$H_1$: average gpa of drinker and non drinker are different\n",
    "\n",
    "since significance level is 5%, the z-score that is expected to satisfied the null hyphothesis should be $\\pm$ 1.96 (two-tailed test critical value), where the z-score can be calculated as follow:\n",
    "\n",
    "$$\n",
    "    Z_s = \\frac{X-\\bar{X}}{\\sqrt{\\frac{S_1^2}{n_1} + \\frac{S_2^2}{n_2}}}\n",
    "$$"
   ]
  },
  {
   "cell_type": "code",
   "execution_count": 7,
   "metadata": {},
   "outputs": [
    {
     "name": "stdout",
     "output_type": "stream",
     "text": [
      "2.470538499324589\n"
     ]
    }
   ],
   "source": [
    "non_drinker_mean_gpa = df_non_drinker[\"gpa\"].replace(0, np.nan).dropna().mean()\n",
    "non_drinker_std_gpa = df_non_drinker[\"gpa\"].replace(0, np.nan).dropna().std()\n",
    "non_drinker_size = len(df_non_drinker[\"gpa\"].replace(0, np.nan).dropna())\n",
    "\n",
    "drinker_mean_gpa = df_drinker[\"gpa\"].replace(0, np.nan).dropna().mean()\n",
    "drinker_std_gpa = df_drinker[\"gpa\"].replace(0, np.nan).dropna().std()\n",
    "drinker_size = len(df_drinker[\"gpa\"].replace(0, np.nan).dropna())\n",
    "\n",
    "z_score_gpa_drink = (non_drinker_mean_gpa - drinker_mean_gpa) / (np.sqrt( non_drinker_std_gpa**2 / non_drinker_size + drinker_std_gpa**2 / drinker_size))\n",
    "print(z_score_gpa_drink)\n"
   ]
  },
  {
   "cell_type": "code",
   "execution_count": 8,
   "metadata": {},
   "outputs": [
    {
     "data": {
      "text/plain": [
       "149"
      ]
     },
     "execution_count": 8,
     "metadata": {},
     "output_type": "execute_result"
    }
   ],
   "source": [
    "len(df_drinker) + len(df_non_drinker)"
   ]
  },
  {
   "cell_type": "markdown",
   "metadata": {},
   "source": [
    "result of the z score is 1.541 which is in the range of rejection of null hypothesis. Therefore, we can conclude that we $\\bold{cannot}$ reject the null hypothesis"
   ]
  },
  {
   "cell_type": "code",
   "execution_count": 9,
   "metadata": {},
   "outputs": [
    {
     "name": "stdout",
     "output_type": "stream",
     "text": [
      "-0.19261115886458482\n",
      "1.4745599018708597\n"
     ]
    }
   ],
   "source": [
    "z_score_academic_achievement = (df_non_drinker[\"academic_achievements\"].mean() - df_drinker[\"academic_achievements\"].mean()) / (np.sqrt( df_non_drinker[\"academic_achievements\"].std()**2 / len(df_non_drinker[\"academic_achievements\"]) + df_drinker[\"academic_achievements\"].std()**2 / len(df_drinker[\"academic_achievements\"])))\n",
    "z_score_professional_examinations = (df_non_drinker[\"professional_examinations\"].mean() - df_drinker[\"professional_examinations\"].mean()) / (np.sqrt( df_non_drinker[\"professional_examinations\"].std()**2 / len(df_non_drinker[\"professional_examinations\"]) + df_drinker[\"professional_examinations\"].std()**2 / len(df_drinker[\"professional_examinations\"])))\n",
    "print(z_score_academic_achievement)\n",
    "print(z_score_professional_examinations)"
   ]
  },
  {
   "cell_type": "markdown",
   "metadata": {},
   "source": [
    "result of z-score for both academic achievements and professional examinations are within the acceptance range for null hypothesis. Therefore we can conclude that there is no difference between drinkers and non drinkers."
   ]
  },
  {
   "cell_type": "markdown",
   "metadata": {},
   "source": [
    "# Hypothesis Testing (Amount of drinks vs. GPA)"
   ]
  },
  {
   "cell_type": "code",
   "execution_count": 10,
   "metadata": {},
   "outputs": [
    {
     "data": {
      "image/png": "[encoded data removed]",
      "text/plain": [
       "<Figure size 432x288 with 1 Axes>"
      ]
     },
     "metadata": {
      "needs_background": "light"
     },
     "output_type": "display_data"
    }
   ],
   "source": [
    "df_drink_amount_average = df_drinker.groupby(\"drinking_consumption_amount\").mean().reset_index()\n",
    "plt.scatter(df_drink_amount_average[\"drinking_consumption_amount\"], df_drink_amount_average[\"gpa\"])\n",
    "plt.show()\n"
   ]
  },
  {
   "cell_type": "code",
   "execution_count": 11,
   "metadata": {},
   "outputs": [
    {
     "data": {
      "image/png": "[encoded data removed]",
      "text/plain": [
       "<Figure size 432x288 with 1 Axes>"
      ]
     },
     "metadata": {
      "needs_background": "light"
     },
     "output_type": "display_data"
    }
   ],
   "source": [
    "plt.scatter(df_drink_amount_average[\"drinking_consumption_amount\"], df_drink_amount_average[\"academic_achievements\"])\n",
    "plt.show()"
   ]
  },
  {
   "cell_type": "code",
   "execution_count": 12,
   "metadata": {},
   "outputs": [
    {
     "data": {
      "image/png": "[encoded data removed]",
      "text/plain": [
       "<Figure size 432x288 with 1 Axes>"
      ]
     },
     "metadata": {
      "needs_background": "light"
     },
     "output_type": "display_data"
    }
   ],
   "source": [
    "plt.scatter(df_drink_amount_average[\"drinking_consumption_amount\"], df_drink_amount_average[\"professional_examinations\"])\n",
    "plt.show()"
   ]
  },
  {
   "cell_type": "markdown",
   "metadata": {},
   "source": [
    "# Quantifying categorical values"
   ]
  },
  {
   "cell_type": "code",
   "execution_count": 13,
   "metadata": {},
   "outputs": [
    {
     "name": "stderr",
     "output_type": "stream",
     "text": [
      "/opt/anaconda3/envs/gecc-fyp/lib/python3.8/site-packages/pandas/core/indexing.py:1817: SettingWithCopyWarning: \n",
      "A value is trying to be set on a copy of a slice from a DataFrame.\n",
      "Try using .loc[row_indexer,col_indexer] = value instead\n",
      "\n",
      "See the caveats in the documentation: https://pandas.pydata.org/pandas-docs/stable/user_guide/indexing.html#returning-a-view-versus-a-copy\n",
      "  self._setitem_single_column(loc, value, pi)\n"
     ]
    }
   ],
   "source": [
    "df_drinker_quantified = df_drinker\n",
    "\n",
    "df_drinker_quantified.loc[ df.year_of_study == \"4 or above 四年級以上\", \"year_of_study\" ] = 4.0\n",
    "\n",
    "df_drinker_quantified.loc[ df.drinking_frequency == \"Monthly or less 少於每月\", \"drinking_frequency\" ] = 1.0 / 16.0\n",
    "df_drinker_quantified.loc[ df.drinking_frequency == \"Monthly or less 少於一個月\", \"drinking_frequency\" ] = 1.0 / 16.0\n",
    "df_drinker_quantified.loc[ df.drinking_frequency == \"2-4 times a month 每月二至四次\", \"drinking_frequency\" ] = 3.0 / 16.0\n",
    "df_drinker_quantified.loc[ df.drinking_frequency == \"2-3 times a week 每週二至三次\", \"drinking_frequency\" ] = 10.0 / 16.0\n",
    "df_drinker_quantified.loc[ df.drinking_frequency == \"4 or more times a week 每週四次以上\", \"drinking_frequency\" ] = 16.0 / 16.0\n",
    "\n",
    "df_drinker_quantified.loc[ df.drinking_frequency_six_servings == \"Daily or almost daily 每天或幾乎每天\", \"drinking_frequency_six_servings\" ] = 30.0 / 30.0\n",
    "df_drinker_quantified.loc[ df.drinking_frequency_six_servings == \"Weekly 每週\", \"drinking_frequency_six_servings\" ] = 4.0 / 30.0\n",
    "df_drinker_quantified.loc[ df.drinking_frequency_six_servings == \"Monthly 每月\", \"drinking_frequency_six_servings\" ] = 1.0 / 30.0\n",
    "df_drinker_quantified.loc[ df.drinking_frequency_six_servings == \"Less than once per month 少於每月\", \"drinking_frequency_six_servings\" ] = .5 / 30.0\n",
    "df_drinker_quantified.loc[ df.drinking_frequency_six_servings == \"Less than once per month 少於一個月\", \"drinking_frequency_six_servings\" ] = .5 / 30.0\n",
    "df_drinker_quantified.loc[ df.drinking_frequency_six_servings == \"Never 從來不會\", \"drinking_frequency_six_servings\" ] = 0.0 / 30.0\n",
    "\n",
    "df_drinker_quantified.loc[ df.drinking_frequency_before_examination == \"Never (0%) 從來不會\", \"drinking_frequency_before_examination\" ] = 0.0 / 10.0\n",
    "df_drinker_quantified.loc[ df.drinking_frequency_before_examination == \"Occasionally (20%) 偶爾\", \"drinking_frequency_before_examination\" ] = 2.0 / 10.0\n",
    "df_drinker_quantified.loc[ df.drinking_frequency_before_examination == \"Sometimes (40%) 有時\", \"drinking_frequency_before_examination\" ] = 4.0 / 10.0\n",
    "df_drinker_quantified.loc[ df.drinking_frequency_before_examination == \"Often (60%) 經常\", \"drinking_frequency_before_examination\" ] = 6.0 / 10.0\n",
    "df_drinker_quantified.loc[ df.drinking_frequency_before_examination == \"Usually (80%) 通常\", \"drinking_frequency_before_examination\" ] = 8.0 / 10.0\n",
    "df_drinker_quantified.loc[ df.drinking_frequency_before_examination == \"Always (100%) 總是\", \"drinking_frequency_before_examination\" ] = 10.0 / 10.0\n",
    "\n",
    "df_drinker_quantified.loc[ df_drinker_quantified.activity_1 == \"Yes 有\", \"activity_1\" ] = 1.0\n",
    "df_drinker_quantified.loc[ df_drinker_quantified.activity_1 == \"No 沒有\", \"activity_1\" ] = 0\n",
    "\n",
    "df_drinker_quantified.loc[ df_drinker_quantified.activity_2 == \"Yes 有\", \"activity_2\" ] = 1.0\n",
    "df_drinker_quantified.loc[ df_drinker_quantified.activity_2 == \"No 沒有\", \"activity_2\" ] = 0\n",
    "\n",
    "quantified_columns = [\"year_of_study\", \"drinking_frequency\", \"drinking_consumption_amount\", \"drinking_frequency_six_servings\", \"gpa\", \"activity_1\", \"activity_2\", \"academic_achievements\", \"professional_examinations\"]\n",
    "\n",
    "df_drinker_quantified = df_drinker_quantified[quantified_columns]"
   ]
  },
  {
   "cell_type": "code",
   "execution_count": 14,
   "metadata": {},
   "outputs": [
    {
     "name": "stderr",
     "output_type": "stream",
     "text": [
      "/opt/anaconda3/envs/gecc-fyp/lib/python3.8/site-packages/pandas/core/generic.py:5516: SettingWithCopyWarning: \n",
      "A value is trying to be set on a copy of a slice from a DataFrame.\n",
      "Try using .loc[row_indexer,col_indexer] = value instead\n",
      "\n",
      "See the caveats in the documentation: https://pandas.pydata.org/pandas-docs/stable/user_guide/indexing.html#returning-a-view-versus-a-copy\n",
      "  self[name] = value\n"
     ]
    }
   ],
   "source": [
    "from sklearn.decomposition import PCA\n",
    "from sklearn import linear_model\n",
    "from sklearn.preprocessing import StandardScaler \n",
    "\n",
    "# X_scaler = StandardScaler()\n",
    "\n",
    "# # selected attribute\n",
    "# attribute = [\"year_of_study\", \"drinking_frequency\", \"drinking_consumption_amount\", \"drinking_frequency_six_servings\", \"gpa\"]\n",
    "# X_train_scaled_attribute = X_scaler.fit_transform(df_drinker_quantified[attribute]) \n",
    "# df_drinker_quantified[attribute] = X_train_scaled_attribute\n",
    "\n",
    "# x_att = df_drinker_quantified[attribute[:-1]]\n",
    "# y_att = df_drinker_quantified[attribute[-1]]\n",
    "\n",
    "# x_att_1 = np.array(x_att[attribute[0]])\n",
    "# x_att_2 = np.array(x_att[attribute[1]])\n",
    "# x_att_3 = np.array(x_att[attribute[2]])\n",
    "# x_att_4 = np.array(x_att[attribute[3]])\n",
    "\n",
    "# y_att_final = np.array(y_att)\n",
    "# n = len(y_att_final)\n",
    "\n",
    "# x_bias = np.ones((n, 1))\n",
    "\n",
    "# x_att_1_reshape = np.reshape(x_att_1, (n, 1))\n",
    "# x_att_2_reshape = np.reshape(x_att_2, (n, 1))\n",
    "# x_att_3_reshape = np.reshape(x_att_3, (n, 1))\n",
    "# x_att_4_reshape = np.reshape(x_att_4, (n, 1))\n",
    "\n",
    "# x_att_final = np.append(x_bias, x_att_1_reshape, axis=1)\n",
    "# x_att_final = np.append(x_att_final, x_att_2_reshape, axis=1)\n",
    "# x_att_final = np.append(x_att_final, x_att_3_reshape, axis=1)\n",
    "# x_prime = np.append(x_att_final, x_att_4_reshape, axis=1)\n",
    "\n",
    "# x_prime_transpose = np.transpose(x_prime)\n",
    "\n",
    "# theta = np.linalg.inv(x_prime_transpose.dot(x_prime)).dot(x_prime_transpose).dot(y_att_final)\n",
    "# print(\"Parameter theta calculated by normal equation:\", theta)\n",
    "\n",
    "'''\n",
    "pca_tested_label = [\"year_of_study\", \"drinking_frequency\", \"drinking_consumption_amount\", \"drinking_frequency_six_servings\", \"gpa\"]\n",
    "\n",
    "pca = PCA()\n",
    "pca.fit(df_drinker_quantified[pca_tested_label])\n",
    "print(pca_tested_label)\n",
    "print(pca.explained_variance_ratio_ * 100)\n",
    "'''\n",
    "\n",
    "# lin_regr = linear_model.LinearRegression()\n",
    "# lin_regr.fit(df_drinker_quantified.drop([\"gpa\", \"activity_1\", \"activity_2\", \"academic_achievements\", \"professional_examinations\"], axis=1), df_drinker_quantified[\"gpa\"])\n",
    "# print(lin_regr.coef_)\n",
    "\n",
    "# fig, axs = plt.subplots(2)\n",
    "# axs[0].plot([\"year_of_study\", \"drinking_frequency\", \"drinking_consumption_amount\", \"drinking_frequency_six_servings\"], pca.explained_variance_ratio_)\n",
    "# axs[0].xticks(rotation=45, ha=\"right\")\n",
    "# axs[1].plot([\"year_of_study\", \"drinking_frequency\", \"drinking_consumption_amount\", \"drinking_frequency_six_servings\"], lin_regr.coef_)\n",
    "# axs[1].xticks(rotation=45, ha=\"right\")\n",
    "\n",
    "'''\n",
    "plt.plot([\"year_of_study\", \"drinking_frequency\", \"drinking_consumption_amount\", \"drinking_frequency_six_servings\", \"gpa\"], pca.explained_variance_ratio_)\n",
    "plt.title(\"Factor of attribute affecting GPA\")\n",
    "plt.ylabel(\"Factor\")\n",
    "plt.xlabel(\"Attribute\")\n",
    "plt.xticks(rotation=45, ha=\"right\")\n",
    "\n",
    "plt.show()\n",
    "'''\n",
    "df_drinker_quantified.year_of_study = pd.to_numeric(df_drinker_quantified.year_of_study)\n",
    "df_drinker_quantified.drinking_frequency = pd.to_numeric(df_drinker_quantified.drinking_frequency)\n",
    "df_drinker_quantified.drinking_frequency_six_servings = pd.to_numeric(df_drinker_quantified.drinking_frequency_six_servings)\n",
    "df_drinker_quantified.activity_1 = pd.to_numeric(df_drinker_quantified.activity_1)\n",
    "df_drinker_quantified.activity_2 = pd.to_numeric(df_drinker_quantified.activity_2)\n",
    "\n",
    "attribute_correlation = df_drinker_quantified.corr(method='pearson')\n"
   ]
  },
  {
   "cell_type": "code",
   "execution_count": 15,
   "metadata": {},
   "outputs": [
    {
     "data": {
      "text/plain": [
       "year_of_study                      0.211493\n",
       "drinking_frequency                -0.010672\n",
       "drinking_consumption_amount       -0.103791\n",
       "drinking_frequency_six_servings   -0.022116\n",
       "gpa                                1.000000\n",
       "activity_1                         0.302063\n",
       "activity_2                         0.150604\n",
       "academic_achievements              0.334816\n",
       "professional_examinations          0.010046\n",
       "Name: gpa, dtype: float64"
      ]
     },
     "execution_count": 15,
     "metadata": {},
     "output_type": "execute_result"
    }
   ],
   "source": [
    "attribute_correlation.gpa"
   ]
  },
  {
   "cell_type": "code",
   "execution_count": 16,
   "metadata": {},
   "outputs": [
    {
     "name": "stdout",
     "output_type": "stream",
     "text": [
      "2.822815019549346\n",
      "[ 0.16463418 -0.00047803 -0.02634355 -0.20059996]\n"
     ]
    },
    {
     "data": {
      "image/png": "[encoded data removed]",
      "text/plain": [
       "<Figure size 2880x576 with 4 Axes>"
      ]
     },
     "metadata": {
      "needs_background": "light"
     },
     "output_type": "display_data"
    }
   ],
   "source": [
    "df_drinker_quantified_normalized = (df_drinker_quantified - df_drinker_quantified.min()) / (df_drinker_quantified.max() - df_drinker_quantified.min())\n",
    "\n",
    "x_columns = [\"year_of_study\", \"drinking_frequency\", \"drinking_consumption_amount\", \"drinking_frequency_six_servings\"]\n",
    "\n",
    "# gpa\n",
    "linear_regression_gpa = linear_model.LinearRegression()\n",
    "linear_regression_gpa.fit(df_drinker_quantified[x_columns], df_drinker_quantified[\"gpa\"])\n",
    "print(linear_regression_gpa.intercept_)\n",
    "print(linear_regression_gpa.coef_)\n",
    "\n",
    "plt.figure(figsize=(40, 8))\n",
    "\n",
    "gpa_group_by_year = df_drinker_quantified[[\"year_of_study\", \"gpa\"]].groupby(\"year_of_study\").mean().reset_index()\n",
    "plt_year = plt.subplot(1, 4, 1) \n",
    "plt_year = plt.scatter(gpa_group_by_year[\"year_of_study\"], gpa_group_by_year[\"gpa\"])\n",
    "plt.title(\"Year of Study\")\n",
    "\n",
    "# freq\n",
    "gpa_group_by_freq = df_drinker_quantified[[\"drinking_frequency\", \"gpa\"]].groupby(\"drinking_frequency\").mean().reset_index()\n",
    "plt_freq = plt.subplot(1, 4, 2) \n",
    "plt_freq = plt.scatter(gpa_group_by_freq[\"drinking_frequency\"], gpa_group_by_freq[\"gpa\"])\n",
    "plt.title(\"Drinking Ffrequency\")\n",
    "\n",
    "# amount\n",
    "gpa_group_by_amount = df_drinker_quantified[[\"drinking_consumption_amount\", \"gpa\"]].groupby(\"drinking_consumption_amount\").mean().reset_index()\n",
    "plt_amount = plt.subplot(1, 4, 3) \n",
    "plt_amount = plt.scatter(gpa_group_by_amount[\"drinking_consumption_amount\"], gpa_group_by_amount[\"gpa\"])\n",
    "plt.title(\"Drinking Amount\")\n",
    "\n",
    "\n",
    "# drinking_frequency_six_servings\n",
    "gpa_group_by_six_servings = df_drinker_quantified[[\"drinking_frequency_six_servings\", \"gpa\"]].groupby(\"drinking_frequency_six_servings\").mean().reset_index()\n",
    "plt_six_servings = plt.subplot(1, 4, 4) \n",
    "plt_six_servings = plt.scatter(gpa_group_by_six_servings[\"drinking_frequency_six_servings\"], gpa_group_by_six_servings[\"gpa\"])\n",
    "plt.title(\"Drinking Six Servings\")\n",
    "\n",
    "plt.show()"
   ]
  },
  {
   "cell_type": "code",
   "execution_count": 17,
   "metadata": {},
   "outputs": [
    {
     "data": {
      "image/png": "[encoded data removed]",
      "text/plain": [
       "<Figure size 432x288 with 1 Axes>"
      ]
     },
     "metadata": {
      "needs_background": "light"
     },
     "output_type": "display_data"
    }
   ],
   "source": [
    "df_drinking_frequency_average = df_drinker_quantified[[\"drinking_frequency\", \"gpa\"]].groupby(\"drinking_frequency\").mean().reset_index()\n",
    "plt.scatter(df_drinking_frequency_average[\"drinking_frequency\"], df_drinking_frequency_average[\"gpa\"])\n",
    "plt.show()"
   ]
  },
  {
   "cell_type": "code",
   "execution_count": 18,
   "metadata": {},
   "outputs": [
    {
     "data": {
      "image/png": "[encoded data removed]",
      "text/plain": [
       "<Figure size 432x288 with 1 Axes>"
      ]
     },
     "metadata": {
      "needs_background": "light"
     },
     "output_type": "display_data"
    }
   ],
   "source": [
    "df_frequency = df_drinker_quantified[[\"drinking_frequency\", \"academic_achievements\"]].groupby(\"drinking_frequency\").mean().reset_index()\n",
    "plt.scatter(df_frequency[\"drinking_frequency\"], df_frequency[\"academic_achievements\"])\n",
    "plt.show()"
   ]
  },
  {
   "cell_type": "code",
   "execution_count": 19,
   "metadata": {},
   "outputs": [
    {
     "name": "stdout",
     "output_type": "stream",
     "text": [
      "3.5049259259259262\n",
      "3.333293103448275\n"
     ]
    }
   ],
   "source": [
    "print(df_non_drinker[\"gpa\"].replace(0, np.nan).mean())\n",
    "print(df_drinker[\"gpa\"].replace(0, np.nan).mean())"
   ]
  },
  {
   "cell_type": "code",
   "execution_count": 20,
   "metadata": {},
   "outputs": [
    {
     "data": {
      "text/html": [
       "<div>\n",
       "<style scoped>\n",
       "    .dataframe tbody tr th:only-of-type {\n",
       "        vertical-align: middle;\n",
       "    }\n",
       "\n",
       "    .dataframe tbody tr th {\n",
       "        vertical-align: top;\n",
       "    }\n",
       "\n",
       "    .dataframe thead th {\n",
       "        text-align: right;\n",
       "    }\n",
       "</style>\n",
       "<table border=\"1\" class=\"dataframe\">\n",
       "  <thead>\n",
       "    <tr style=\"text-align: right;\">\n",
       "      <th></th>\n",
       "      <th>year_of_study</th>\n",
       "      <th>drinking_frequency</th>\n",
       "      <th>drinking_consumption_amount</th>\n",
       "      <th>drinking_frequency_six_servings</th>\n",
       "      <th>gpa</th>\n",
       "      <th>activity_1</th>\n",
       "      <th>activity_2</th>\n",
       "      <th>academic_achievements</th>\n",
       "      <th>professional_examinations</th>\n",
       "    </tr>\n",
       "  </thead>\n",
       "  <tbody>\n",
       "    <tr>\n",
       "      <th>year_of_study</th>\n",
       "      <td>1.000000</td>\n",
       "      <td>0.074738</td>\n",
       "      <td>0.076195</td>\n",
       "      <td>0.137996</td>\n",
       "      <td>0.211493</td>\n",
       "      <td>0.196042</td>\n",
       "      <td>0.110196</td>\n",
       "      <td>0.121840</td>\n",
       "      <td>0.189892</td>\n",
       "    </tr>\n",
       "    <tr>\n",
       "      <th>drinking_frequency</th>\n",
       "      <td>0.074738</td>\n",
       "      <td>1.000000</td>\n",
       "      <td>0.166279</td>\n",
       "      <td>0.681748</td>\n",
       "      <td>-0.010672</td>\n",
       "      <td>-0.046159</td>\n",
       "      <td>-0.154973</td>\n",
       "      <td>-0.167201</td>\n",
       "      <td>-0.083746</td>\n",
       "    </tr>\n",
       "    <tr>\n",
       "      <th>drinking_consumption_amount</th>\n",
       "      <td>0.076195</td>\n",
       "      <td>0.166279</td>\n",
       "      <td>1.000000</td>\n",
       "      <td>0.354189</td>\n",
       "      <td>-0.103791</td>\n",
       "      <td>-0.014904</td>\n",
       "      <td>-0.029360</td>\n",
       "      <td>0.009540</td>\n",
       "      <td>-0.070847</td>\n",
       "    </tr>\n",
       "    <tr>\n",
       "      <th>drinking_frequency_six_servings</th>\n",
       "      <td>0.137996</td>\n",
       "      <td>0.681748</td>\n",
       "      <td>0.354189</td>\n",
       "      <td>1.000000</td>\n",
       "      <td>-0.022116</td>\n",
       "      <td>0.058094</td>\n",
       "      <td>-0.135028</td>\n",
       "      <td>-0.125847</td>\n",
       "      <td>-0.015111</td>\n",
       "    </tr>\n",
       "    <tr>\n",
       "      <th>gpa</th>\n",
       "      <td>0.211493</td>\n",
       "      <td>-0.010672</td>\n",
       "      <td>-0.103791</td>\n",
       "      <td>-0.022116</td>\n",
       "      <td>1.000000</td>\n",
       "      <td>0.302063</td>\n",
       "      <td>0.150604</td>\n",
       "      <td>0.334816</td>\n",
       "      <td>0.010046</td>\n",
       "    </tr>\n",
       "    <tr>\n",
       "      <th>activity_1</th>\n",
       "      <td>0.196042</td>\n",
       "      <td>-0.046159</td>\n",
       "      <td>-0.014904</td>\n",
       "      <td>0.058094</td>\n",
       "      <td>0.302063</td>\n",
       "      <td>1.000000</td>\n",
       "      <td>0.511811</td>\n",
       "      <td>0.269322</td>\n",
       "      <td>0.041151</td>\n",
       "    </tr>\n",
       "    <tr>\n",
       "      <th>activity_2</th>\n",
       "      <td>0.110196</td>\n",
       "      <td>-0.154973</td>\n",
       "      <td>-0.029360</td>\n",
       "      <td>-0.135028</td>\n",
       "      <td>0.150604</td>\n",
       "      <td>0.511811</td>\n",
       "      <td>1.000000</td>\n",
       "      <td>0.212142</td>\n",
       "      <td>0.054340</td>\n",
       "    </tr>\n",
       "    <tr>\n",
       "      <th>academic_achievements</th>\n",
       "      <td>0.121840</td>\n",
       "      <td>-0.167201</td>\n",
       "      <td>0.009540</td>\n",
       "      <td>-0.125847</td>\n",
       "      <td>0.334816</td>\n",
       "      <td>0.269322</td>\n",
       "      <td>0.212142</td>\n",
       "      <td>1.000000</td>\n",
       "      <td>0.077347</td>\n",
       "    </tr>\n",
       "    <tr>\n",
       "      <th>professional_examinations</th>\n",
       "      <td>0.189892</td>\n",
       "      <td>-0.083746</td>\n",
       "      <td>-0.070847</td>\n",
       "      <td>-0.015111</td>\n",
       "      <td>0.010046</td>\n",
       "      <td>0.041151</td>\n",
       "      <td>0.054340</td>\n",
       "      <td>0.077347</td>\n",
       "      <td>1.000000</td>\n",
       "    </tr>\n",
       "  </tbody>\n",
       "</table>\n",
       "</div>"
      ],
      "text/plain": [
       "                                 year_of_study  drinking_frequency  \\\n",
       "year_of_study                         1.000000            0.074738   \n",
       "drinking_frequency                    0.074738            1.000000   \n",
       "drinking_consumption_amount           0.076195            0.166279   \n",
       "drinking_frequency_six_servings       0.137996            0.681748   \n",
       "gpa                                   0.211493           -0.010672   \n",
       "activity_1                            0.196042           -0.046159   \n",
       "activity_2                            0.110196           -0.154973   \n",
       "academic_achievements                 0.121840           -0.167201   \n",
       "professional_examinations             0.189892           -0.083746   \n",
       "\n",
       "                                 drinking_consumption_amount  \\\n",
       "year_of_study                                       0.076195   \n",
       "drinking_frequency                                  0.166279   \n",
       "drinking_consumption_amount                         1.000000   \n",
       "drinking_frequency_six_servings                     0.354189   \n",
       "gpa                                                -0.103791   \n",
       "activity_1                                         -0.014904   \n",
       "activity_2                                         -0.029360   \n",
       "academic_achievements                               0.009540   \n",
       "professional_examinations                          -0.070847   \n",
       "\n",
       "                                 drinking_frequency_six_servings       gpa  \\\n",
       "year_of_study                                           0.137996  0.211493   \n",
       "drinking_frequency                                      0.681748 -0.010672   \n",
       "drinking_consumption_amount                             0.354189 -0.103791   \n",
       "drinking_frequency_six_servings                         1.000000 -0.022116   \n",
       "gpa                                                    -0.022116  1.000000   \n",
       "activity_1                                              0.058094  0.302063   \n",
       "activity_2                                             -0.135028  0.150604   \n",
       "academic_achievements                                  -0.125847  0.334816   \n",
       "professional_examinations                              -0.015111  0.010046   \n",
       "\n",
       "                                 activity_1  activity_2  \\\n",
       "year_of_study                      0.196042    0.110196   \n",
       "drinking_frequency                -0.046159   -0.154973   \n",
       "drinking_consumption_amount       -0.014904   -0.029360   \n",
       "drinking_frequency_six_servings    0.058094   -0.135028   \n",
       "gpa                                0.302063    0.150604   \n",
       "activity_1                         1.000000    0.511811   \n",
       "activity_2                         0.511811    1.000000   \n",
       "academic_achievements              0.269322    0.212142   \n",
       "professional_examinations          0.041151    0.054340   \n",
       "\n",
       "                                 academic_achievements  \\\n",
       "year_of_study                                 0.121840   \n",
       "drinking_frequency                           -0.167201   \n",
       "drinking_consumption_amount                   0.009540   \n",
       "drinking_frequency_six_servings              -0.125847   \n",
       "gpa                                           0.334816   \n",
       "activity_1                                    0.269322   \n",
       "activity_2                                    0.212142   \n",
       "academic_achievements                         1.000000   \n",
       "professional_examinations                     0.077347   \n",
       "\n",
       "                                 professional_examinations  \n",
       "year_of_study                                     0.189892  \n",
       "drinking_frequency                               -0.083746  \n",
       "drinking_consumption_amount                      -0.070847  \n",
       "drinking_frequency_six_servings                  -0.015111  \n",
       "gpa                                               0.010046  \n",
       "activity_1                                        0.041151  \n",
       "activity_2                                        0.054340  \n",
       "academic_achievements                             0.077347  \n",
       "professional_examinations                         1.000000  "
      ]
     },
     "execution_count": 20,
     "metadata": {},
     "output_type": "execute_result"
    }
   ],
   "source": [
    "attribute_correlation"
   ]
  },
  {
   "cell_type": "code",
   "execution_count": null,
   "metadata": {},
   "outputs": [],
   "source": []
  }
 ],
 "metadata": {
  "interpreter": {
   "hash": "0a0726b261c1aad5fa0422762e899f03039c16d5a3bd3f836c678c3ab7ccca12"
  },
  "kernelspec": {
   "display_name": "Python 3 (ipykernel)",
   "language": "python",
   "name": "python3"
  },
  "language_info": {
   "codemirror_mode": {
    "name": "ipython",
    "version": 3
   },
   "file_extension": ".py",
   "mimetype": "text/x-python",
   "name": "python",
   "nbconvert_exporter": "python",
   "pygments_lexer": "ipython3",
   "version": "3.8.11"
  },
  "orig_nbformat": 4
 },
 "nbformat": 4,
 "nbformat_minor": 2
}
